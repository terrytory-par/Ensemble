{
  "cells": [
    {
      "cell_type": "code",
      "execution_count": 1,
      "metadata": {
        "colab": {
          "base_uri": "https://localhost:8080/"
        },
        "id": "cQ864rXuNjMD",
        "outputId": "f57b7a14-a21e-48c2-f030-b60273aab6dc"
      },
      "outputs": [
        {
          "output_type": "execute_result",
          "data": {
            "text/plain": [
              "dict_keys(['data', 'target', 'frame', 'target_names', 'DESCR', 'feature_names', 'filename', 'data_module'])"
            ]
          },
          "metadata": {},
          "execution_count": 1
        }
      ],
      "source": [
        "from sklearn.datasets import load_iris\n",
        "data = load_iris()\n",
        "data.keys()"
      ]
    },
    {
      "cell_type": "code",
      "execution_count": 3,
      "metadata": {
        "colab": {
          "base_uri": "https://localhost:8080/"
        },
        "id": "7BXHvjNdNjMH",
        "outputId": "463075af-724d-48c4-b6da-4737ce640b13"
      },
      "outputs": [
        {
          "output_type": "execute_result",
          "data": {
            "text/plain": [
              "0.9736842105263158"
            ]
          },
          "metadata": {},
          "execution_count": 3
        }
      ],
      "source": [
        "#DecisionTreeClassifier\n",
        "from sklearn.model_selection import train_test_split\n",
        "from sklearn.tree import DecisionTreeClassifier\n",
        "\n",
        "X_train, X_test, y_train, y_test = train_test_split(data.data, data.target, random_state=42)\n",
        "model = DecisionTreeClassifier(criterion='entropy')\n",
        "model.fit(X_train, y_train)\n",
        "model.score(X_test, y_test)"
      ]
    },
    {
      "cell_type": "code",
      "execution_count": 4,
      "metadata": {
        "colab": {
          "base_uri": "https://localhost:8080/"
        },
        "id": "QBcUJsV0NjMH",
        "outputId": "819c4320-0fa8-4ecc-fde2-6dcc71dece6a"
      },
      "outputs": [
        {
          "output_type": "stream",
          "name": "stdout",
          "text": [
            "current score is 0.9736842105263158 at md=3, msl=2, mln=7\n",
            "current best score is 0.9736842105263158 at md=3, msl=2, mln=7\n",
            "current score is 0.9736842105263158 at md=3, msl=2, mln=8\n",
            "current score is 0.9736842105263158 at md=3, msl=2, mln=9\n",
            "current score is 0.9736842105263158 at md=3, msl=2, mln=10\n",
            "current score is 0.9736842105263158 at md=3, msl=2, mln=11\n",
            "current score is 0.9736842105263158 at md=3, msl=3, mln=7\n",
            "current score is 0.9736842105263158 at md=3, msl=3, mln=8\n",
            "current score is 0.9736842105263158 at md=3, msl=3, mln=9\n",
            "current score is 0.9736842105263158 at md=3, msl=3, mln=10\n",
            "current score is 0.9736842105263158 at md=3, msl=3, mln=11\n",
            "current score is 0.9736842105263158 at md=3, msl=4, mln=7\n",
            "current score is 0.9736842105263158 at md=3, msl=4, mln=8\n",
            "current score is 0.9736842105263158 at md=3, msl=4, mln=9\n",
            "current score is 0.9736842105263158 at md=3, msl=4, mln=10\n",
            "current score is 0.9736842105263158 at md=3, msl=4, mln=11\n",
            "current score is 0.9736842105263158 at md=3, msl=5, mln=7\n",
            "current score is 0.9736842105263158 at md=3, msl=5, mln=8\n",
            "current score is 0.9736842105263158 at md=3, msl=5, mln=9\n",
            "current score is 0.9736842105263158 at md=3, msl=5, mln=10\n",
            "current score is 0.9736842105263158 at md=3, msl=5, mln=11\n",
            "current score is 0.9736842105263158 at md=3, msl=6, mln=7\n",
            "current score is 0.9736842105263158 at md=3, msl=6, mln=8\n",
            "current score is 0.9736842105263158 at md=3, msl=6, mln=9\n",
            "current score is 0.9736842105263158 at md=3, msl=6, mln=10\n",
            "current score is 0.9736842105263158 at md=3, msl=6, mln=11\n",
            "current score is 0.9736842105263158 at md=3, msl=7, mln=7\n",
            "current score is 0.9736842105263158 at md=3, msl=7, mln=8\n",
            "current score is 0.9736842105263158 at md=3, msl=7, mln=9\n",
            "current score is 0.9736842105263158 at md=3, msl=7, mln=10\n",
            "current score is 0.9736842105263158 at md=3, msl=7, mln=11\n",
            "current score is 0.9736842105263158 at md=3, msl=8, mln=7\n",
            "current score is 0.9736842105263158 at md=3, msl=8, mln=8\n",
            "current score is 0.9736842105263158 at md=3, msl=8, mln=9\n",
            "current score is 0.9736842105263158 at md=3, msl=8, mln=10\n",
            "current score is 0.9736842105263158 at md=3, msl=8, mln=11\n",
            "current score is 0.9736842105263158 at md=3, msl=9, mln=7\n",
            "current score is 0.9736842105263158 at md=3, msl=9, mln=8\n",
            "current score is 0.9736842105263158 at md=3, msl=9, mln=9\n",
            "current score is 0.9736842105263158 at md=3, msl=9, mln=10\n",
            "current score is 0.9736842105263158 at md=3, msl=9, mln=11\n",
            "current score is 0.9736842105263158 at md=3, msl=10, mln=7\n",
            "current score is 0.9736842105263158 at md=3, msl=10, mln=8\n",
            "current score is 0.9736842105263158 at md=3, msl=10, mln=9\n",
            "current score is 0.9736842105263158 at md=3, msl=10, mln=10\n",
            "current score is 0.9736842105263158 at md=3, msl=10, mln=11\n",
            "current score is 1.0 at md=4, msl=2, mln=7\n",
            "current best score is 1.0 at md=4, msl=2, mln=7\n",
            "current score is 1.0 at md=4, msl=2, mln=8\n",
            "current score is 1.0 at md=4, msl=2, mln=9\n",
            "current score is 1.0 at md=4, msl=2, mln=10\n",
            "current score is 1.0 at md=4, msl=2, mln=11\n",
            "current score is 1.0 at md=4, msl=3, mln=7\n",
            "current score is 1.0 at md=4, msl=3, mln=8\n",
            "current score is 1.0 at md=4, msl=3, mln=9\n",
            "current score is 1.0 at md=4, msl=3, mln=10\n",
            "current score is 1.0 at md=4, msl=3, mln=11\n",
            "current score is 1.0 at md=4, msl=4, mln=7\n",
            "current score is 1.0 at md=4, msl=4, mln=8\n",
            "current score is 1.0 at md=4, msl=4, mln=9\n",
            "current score is 1.0 at md=4, msl=4, mln=10\n",
            "current score is 1.0 at md=4, msl=4, mln=11\n",
            "current score is 1.0 at md=4, msl=5, mln=7\n",
            "current score is 1.0 at md=4, msl=5, mln=8\n",
            "current score is 1.0 at md=4, msl=5, mln=9\n",
            "current score is 1.0 at md=4, msl=5, mln=10\n",
            "current score is 1.0 at md=4, msl=5, mln=11\n",
            "current score is 1.0 at md=4, msl=6, mln=7\n",
            "current score is 1.0 at md=4, msl=6, mln=8\n",
            "current score is 1.0 at md=4, msl=6, mln=9\n",
            "current score is 1.0 at md=4, msl=6, mln=10\n",
            "current score is 1.0 at md=4, msl=6, mln=11\n",
            "current score is 0.9736842105263158 at md=4, msl=7, mln=7\n",
            "current score is 0.9736842105263158 at md=4, msl=7, mln=8\n",
            "current score is 0.9736842105263158 at md=4, msl=7, mln=9\n",
            "current score is 0.9736842105263158 at md=4, msl=7, mln=10\n",
            "current score is 0.9736842105263158 at md=4, msl=7, mln=11\n",
            "current score is 0.9736842105263158 at md=4, msl=8, mln=7\n",
            "current score is 0.9736842105263158 at md=4, msl=8, mln=8\n",
            "current score is 0.9736842105263158 at md=4, msl=8, mln=9\n",
            "current score is 0.9736842105263158 at md=4, msl=8, mln=10\n",
            "current score is 0.9736842105263158 at md=4, msl=8, mln=11\n",
            "current score is 0.9736842105263158 at md=4, msl=9, mln=7\n",
            "current score is 0.9736842105263158 at md=4, msl=9, mln=8\n",
            "current score is 0.9736842105263158 at md=4, msl=9, mln=9\n",
            "current score is 0.9736842105263158 at md=4, msl=9, mln=10\n",
            "current score is 0.9736842105263158 at md=4, msl=9, mln=11\n",
            "current score is 0.9736842105263158 at md=4, msl=10, mln=7\n",
            "current score is 0.9736842105263158 at md=4, msl=10, mln=8\n",
            "current score is 0.9736842105263158 at md=4, msl=10, mln=9\n",
            "current score is 0.9736842105263158 at md=4, msl=10, mln=10\n",
            "current score is 0.9736842105263158 at md=4, msl=10, mln=11\n",
            "current score is 1.0 at md=5, msl=2, mln=7\n",
            "current score is 1.0 at md=5, msl=2, mln=8\n",
            "current score is 1.0 at md=5, msl=2, mln=9\n",
            "current score is 1.0 at md=5, msl=2, mln=10\n",
            "current score is 1.0 at md=5, msl=2, mln=11\n",
            "current score is 1.0 at md=5, msl=3, mln=7\n",
            "current score is 1.0 at md=5, msl=3, mln=8\n",
            "current score is 1.0 at md=5, msl=3, mln=9\n",
            "current score is 1.0 at md=5, msl=3, mln=10\n",
            "current score is 1.0 at md=5, msl=3, mln=11\n",
            "current score is 1.0 at md=5, msl=4, mln=7\n",
            "current score is 1.0 at md=5, msl=4, mln=8\n",
            "current score is 1.0 at md=5, msl=4, mln=9\n",
            "current score is 1.0 at md=5, msl=4, mln=10\n",
            "current score is 1.0 at md=5, msl=4, mln=11\n",
            "current score is 1.0 at md=5, msl=5, mln=7\n",
            "current score is 1.0 at md=5, msl=5, mln=8\n",
            "current score is 1.0 at md=5, msl=5, mln=9\n",
            "current score is 1.0 at md=5, msl=5, mln=10\n",
            "current score is 1.0 at md=5, msl=5, mln=11\n",
            "current score is 1.0 at md=5, msl=6, mln=7\n",
            "current score is 1.0 at md=5, msl=6, mln=8\n",
            "current score is 1.0 at md=5, msl=6, mln=9\n",
            "current score is 1.0 at md=5, msl=6, mln=10\n",
            "current score is 1.0 at md=5, msl=6, mln=11\n",
            "current score is 0.9736842105263158 at md=5, msl=7, mln=7\n",
            "current score is 0.9736842105263158 at md=5, msl=7, mln=8\n",
            "current score is 0.9736842105263158 at md=5, msl=7, mln=9\n",
            "current score is 0.9736842105263158 at md=5, msl=7, mln=10\n",
            "current score is 0.9736842105263158 at md=5, msl=7, mln=11\n",
            "current score is 0.9736842105263158 at md=5, msl=8, mln=7\n",
            "current score is 0.9736842105263158 at md=5, msl=8, mln=8\n",
            "current score is 0.9736842105263158 at md=5, msl=8, mln=9\n",
            "current score is 0.9736842105263158 at md=5, msl=8, mln=10\n",
            "current score is 0.9736842105263158 at md=5, msl=8, mln=11\n",
            "current score is 0.9736842105263158 at md=5, msl=9, mln=7\n",
            "current score is 0.9736842105263158 at md=5, msl=9, mln=8\n",
            "current score is 0.9736842105263158 at md=5, msl=9, mln=9\n",
            "current score is 0.9736842105263158 at md=5, msl=9, mln=10\n",
            "current score is 0.9736842105263158 at md=5, msl=9, mln=11\n",
            "current score is 0.9736842105263158 at md=5, msl=10, mln=7\n",
            "current score is 0.9736842105263158 at md=5, msl=10, mln=8\n",
            "current score is 0.9736842105263158 at md=5, msl=10, mln=9\n",
            "current score is 0.9736842105263158 at md=5, msl=10, mln=10\n",
            "current score is 0.9736842105263158 at md=5, msl=10, mln=11\n",
            "{'score': 1.0, 'md': 4, 'msl': 2, 'mln': 7, 'model': DecisionTreeClassifier(criterion='entropy', max_depth=4, max_leaf_nodes=7,\n",
            "                       min_samples_leaf=2)}\n"
          ]
        }
      ],
      "source": [
        "best= {}\n",
        "best['score'] = 0\n",
        "mds = [3,4,5]\n",
        "msls = range(2, 11)\n",
        "mlns = range(7, 12)\n",
        "for md in mds:\n",
        "    for msl in msls:\n",
        "        for mln in mlns:\n",
        "            m = DecisionTreeClassifier(criterion='entropy', max_depth=md,\n",
        "                                       min_samples_leaf=msl, max_leaf_nodes=mln)\n",
        "            m.fit(X_train, y_train)\n",
        "            score = m.score(X_test, y_test)\n",
        "            print(f\"current score is {score} at md={md}, msl={msl}, mln={mln}\")\n",
        "            if score > best['score']:\n",
        "                print(f\"current best score is {score} at md={md}, msl={msl}, mln={mln}\")\n",
        "                best['score'], best['md'], best['msl'], best['mln'], best['model'] = score, md, msl, mln, m\n",
        "print(best)"
      ]
    },
    {
      "cell_type": "code",
      "execution_count": 5,
      "metadata": {
        "colab": {
          "base_uri": "https://localhost:8080/"
        },
        "id": "pQClwdKxNjMH",
        "outputId": "3abc3284-4668-4bd8-b429-40555adddb7b"
      },
      "outputs": [
        {
          "output_type": "execute_result",
          "data": {
            "text/plain": [
              "{'score': 1.0,\n",
              " 'md': 4,\n",
              " 'msl': 2,\n",
              " 'mln': 7,\n",
              " 'model': DecisionTreeClassifier(criterion='entropy', max_depth=4, max_leaf_nodes=7,\n",
              "                        min_samples_leaf=2)}"
            ]
          },
          "metadata": {},
          "execution_count": 5
        }
      ],
      "source": [
        "best"
      ]
    },
    {
      "cell_type": "code",
      "execution_count": 6,
      "metadata": {
        "colab": {
          "base_uri": "https://localhost:8080/"
        },
        "id": "Wo3j1IbqNjMI",
        "outputId": "a2061158-63ad-46f4-b6d3-3b6e70a03ed1"
      },
      "outputs": [
        {
          "output_type": "execute_result",
          "data": {
            "text/plain": [
              "1.0"
            ]
          },
          "metadata": {},
          "execution_count": 6
        }
      ],
      "source": [
        "model = DecisionTreeClassifier(criterion='entropy', max_depth=4)\n",
        "model.fit(X_train, y_train)\n",
        "model.score(X_test, y_test)"
      ]
    },
    {
      "cell_type": "code",
      "execution_count": 7,
      "metadata": {
        "id": "vgdT1d6nNjMJ"
      },
      "outputs": [],
      "source": [
        "import pandas as pd\n",
        "import seaborn as sns\n",
        "import numpy as np\n",
        "import matplotlib.pyplot as plt"
      ]
    },
    {
      "cell_type": "code",
      "execution_count": 8,
      "metadata": {
        "colab": {
          "base_uri": "https://localhost:8080/",
          "height": 206
        },
        "id": "Jx6mTrjjNjMJ",
        "outputId": "ff3e1628-40df-4c35-946f-fc2d8172bdc3"
      },
      "outputs": [
        {
          "output_type": "execute_result",
          "data": {
            "text/plain": [
              "   sepal length (cm)  sepal width (cm)  petal length (cm)  petal width (cm)\n",
              "0                5.1               3.5                1.4               0.2\n",
              "1                4.9               3.0                1.4               0.2\n",
              "2                4.7               3.2                1.3               0.2\n",
              "3                4.6               3.1                1.5               0.2\n",
              "4                5.0               3.6                1.4               0.2"
            ],
            "text/html": [
              "\n",
              "  <div id=\"df-c3578894-747e-42d2-b5b7-806758a315ef\" class=\"colab-df-container\">\n",
              "    <div>\n",
              "<style scoped>\n",
              "    .dataframe tbody tr th:only-of-type {\n",
              "        vertical-align: middle;\n",
              "    }\n",
              "\n",
              "    .dataframe tbody tr th {\n",
              "        vertical-align: top;\n",
              "    }\n",
              "\n",
              "    .dataframe thead th {\n",
              "        text-align: right;\n",
              "    }\n",
              "</style>\n",
              "<table border=\"1\" class=\"dataframe\">\n",
              "  <thead>\n",
              "    <tr style=\"text-align: right;\">\n",
              "      <th></th>\n",
              "      <th>sepal length (cm)</th>\n",
              "      <th>sepal width (cm)</th>\n",
              "      <th>petal length (cm)</th>\n",
              "      <th>petal width (cm)</th>\n",
              "    </tr>\n",
              "  </thead>\n",
              "  <tbody>\n",
              "    <tr>\n",
              "      <th>0</th>\n",
              "      <td>5.1</td>\n",
              "      <td>3.5</td>\n",
              "      <td>1.4</td>\n",
              "      <td>0.2</td>\n",
              "    </tr>\n",
              "    <tr>\n",
              "      <th>1</th>\n",
              "      <td>4.9</td>\n",
              "      <td>3.0</td>\n",
              "      <td>1.4</td>\n",
              "      <td>0.2</td>\n",
              "    </tr>\n",
              "    <tr>\n",
              "      <th>2</th>\n",
              "      <td>4.7</td>\n",
              "      <td>3.2</td>\n",
              "      <td>1.3</td>\n",
              "      <td>0.2</td>\n",
              "    </tr>\n",
              "    <tr>\n",
              "      <th>3</th>\n",
              "      <td>4.6</td>\n",
              "      <td>3.1</td>\n",
              "      <td>1.5</td>\n",
              "      <td>0.2</td>\n",
              "    </tr>\n",
              "    <tr>\n",
              "      <th>4</th>\n",
              "      <td>5.0</td>\n",
              "      <td>3.6</td>\n",
              "      <td>1.4</td>\n",
              "      <td>0.2</td>\n",
              "    </tr>\n",
              "  </tbody>\n",
              "</table>\n",
              "</div>\n",
              "    <div class=\"colab-df-buttons\">\n",
              "\n",
              "  <div class=\"colab-df-container\">\n",
              "    <button class=\"colab-df-convert\" onclick=\"convertToInteractive('df-c3578894-747e-42d2-b5b7-806758a315ef')\"\n",
              "            title=\"Convert this dataframe to an interactive table.\"\n",
              "            style=\"display:none;\">\n",
              "\n",
              "  <svg xmlns=\"http://www.w3.org/2000/svg\" height=\"24px\" viewBox=\"0 -960 960 960\">\n",
              "    <path d=\"M120-120v-720h720v720H120Zm60-500h600v-160H180v160Zm220 220h160v-160H400v160Zm0 220h160v-160H400v160ZM180-400h160v-160H180v160Zm440 0h160v-160H620v160ZM180-180h160v-160H180v160Zm440 0h160v-160H620v160Z\"/>\n",
              "  </svg>\n",
              "    </button>\n",
              "\n",
              "  <style>\n",
              "    .colab-df-container {\n",
              "      display:flex;\n",
              "      gap: 12px;\n",
              "    }\n",
              "\n",
              "    .colab-df-convert {\n",
              "      background-color: #E8F0FE;\n",
              "      border: none;\n",
              "      border-radius: 50%;\n",
              "      cursor: pointer;\n",
              "      display: none;\n",
              "      fill: #1967D2;\n",
              "      height: 32px;\n",
              "      padding: 0 0 0 0;\n",
              "      width: 32px;\n",
              "    }\n",
              "\n",
              "    .colab-df-convert:hover {\n",
              "      background-color: #E2EBFA;\n",
              "      box-shadow: 0px 1px 2px rgba(60, 64, 67, 0.3), 0px 1px 3px 1px rgba(60, 64, 67, 0.15);\n",
              "      fill: #174EA6;\n",
              "    }\n",
              "\n",
              "    .colab-df-buttons div {\n",
              "      margin-bottom: 4px;\n",
              "    }\n",
              "\n",
              "    [theme=dark] .colab-df-convert {\n",
              "      background-color: #3B4455;\n",
              "      fill: #D2E3FC;\n",
              "    }\n",
              "\n",
              "    [theme=dark] .colab-df-convert:hover {\n",
              "      background-color: #434B5C;\n",
              "      box-shadow: 0px 1px 3px 1px rgba(0, 0, 0, 0.15);\n",
              "      filter: drop-shadow(0px 1px 2px rgba(0, 0, 0, 0.3));\n",
              "      fill: #FFFFFF;\n",
              "    }\n",
              "  </style>\n",
              "\n",
              "    <script>\n",
              "      const buttonEl =\n",
              "        document.querySelector('#df-c3578894-747e-42d2-b5b7-806758a315ef button.colab-df-convert');\n",
              "      buttonEl.style.display =\n",
              "        google.colab.kernel.accessAllowed ? 'block' : 'none';\n",
              "\n",
              "      async function convertToInteractive(key) {\n",
              "        const element = document.querySelector('#df-c3578894-747e-42d2-b5b7-806758a315ef');\n",
              "        const dataTable =\n",
              "          await google.colab.kernel.invokeFunction('convertToInteractive',\n",
              "                                                    [key], {});\n",
              "        if (!dataTable) return;\n",
              "\n",
              "        const docLinkHtml = 'Like what you see? Visit the ' +\n",
              "          '<a target=\"_blank\" href=https://colab.research.google.com/notebooks/data_table.ipynb>data table notebook</a>'\n",
              "          + ' to learn more about interactive tables.';\n",
              "        element.innerHTML = '';\n",
              "        dataTable['output_type'] = 'display_data';\n",
              "        await google.colab.output.renderOutput(dataTable, element);\n",
              "        const docLink = document.createElement('div');\n",
              "        docLink.innerHTML = docLinkHtml;\n",
              "        element.appendChild(docLink);\n",
              "      }\n",
              "    </script>\n",
              "  </div>\n",
              "\n",
              "\n",
              "<div id=\"df-76905b9a-9fbe-477a-bd12-4397c4b70a3a\">\n",
              "  <button class=\"colab-df-quickchart\" onclick=\"quickchart('df-76905b9a-9fbe-477a-bd12-4397c4b70a3a')\"\n",
              "            title=\"Suggest charts.\"\n",
              "            style=\"display:none;\">\n",
              "\n",
              "<svg xmlns=\"http://www.w3.org/2000/svg\" height=\"24px\"viewBox=\"0 0 24 24\"\n",
              "     width=\"24px\">\n",
              "    <g>\n",
              "        <path d=\"M19 3H5c-1.1 0-2 .9-2 2v14c0 1.1.9 2 2 2h14c1.1 0 2-.9 2-2V5c0-1.1-.9-2-2-2zM9 17H7v-7h2v7zm4 0h-2V7h2v10zm4 0h-2v-4h2v4z\"/>\n",
              "    </g>\n",
              "</svg>\n",
              "  </button>\n",
              "\n",
              "<style>\n",
              "  .colab-df-quickchart {\n",
              "      --bg-color: #E8F0FE;\n",
              "      --fill-color: #1967D2;\n",
              "      --hover-bg-color: #E2EBFA;\n",
              "      --hover-fill-color: #174EA6;\n",
              "      --disabled-fill-color: #AAA;\n",
              "      --disabled-bg-color: #DDD;\n",
              "  }\n",
              "\n",
              "  [theme=dark] .colab-df-quickchart {\n",
              "      --bg-color: #3B4455;\n",
              "      --fill-color: #D2E3FC;\n",
              "      --hover-bg-color: #434B5C;\n",
              "      --hover-fill-color: #FFFFFF;\n",
              "      --disabled-bg-color: #3B4455;\n",
              "      --disabled-fill-color: #666;\n",
              "  }\n",
              "\n",
              "  .colab-df-quickchart {\n",
              "    background-color: var(--bg-color);\n",
              "    border: none;\n",
              "    border-radius: 50%;\n",
              "    cursor: pointer;\n",
              "    display: none;\n",
              "    fill: var(--fill-color);\n",
              "    height: 32px;\n",
              "    padding: 0;\n",
              "    width: 32px;\n",
              "  }\n",
              "\n",
              "  .colab-df-quickchart:hover {\n",
              "    background-color: var(--hover-bg-color);\n",
              "    box-shadow: 0 1px 2px rgba(60, 64, 67, 0.3), 0 1px 3px 1px rgba(60, 64, 67, 0.15);\n",
              "    fill: var(--button-hover-fill-color);\n",
              "  }\n",
              "\n",
              "  .colab-df-quickchart-complete:disabled,\n",
              "  .colab-df-quickchart-complete:disabled:hover {\n",
              "    background-color: var(--disabled-bg-color);\n",
              "    fill: var(--disabled-fill-color);\n",
              "    box-shadow: none;\n",
              "  }\n",
              "\n",
              "  .colab-df-spinner {\n",
              "    border: 2px solid var(--fill-color);\n",
              "    border-color: transparent;\n",
              "    border-bottom-color: var(--fill-color);\n",
              "    animation:\n",
              "      spin 1s steps(1) infinite;\n",
              "  }\n",
              "\n",
              "  @keyframes spin {\n",
              "    0% {\n",
              "      border-color: transparent;\n",
              "      border-bottom-color: var(--fill-color);\n",
              "      border-left-color: var(--fill-color);\n",
              "    }\n",
              "    20% {\n",
              "      border-color: transparent;\n",
              "      border-left-color: var(--fill-color);\n",
              "      border-top-color: var(--fill-color);\n",
              "    }\n",
              "    30% {\n",
              "      border-color: transparent;\n",
              "      border-left-color: var(--fill-color);\n",
              "      border-top-color: var(--fill-color);\n",
              "      border-right-color: var(--fill-color);\n",
              "    }\n",
              "    40% {\n",
              "      border-color: transparent;\n",
              "      border-right-color: var(--fill-color);\n",
              "      border-top-color: var(--fill-color);\n",
              "    }\n",
              "    60% {\n",
              "      border-color: transparent;\n",
              "      border-right-color: var(--fill-color);\n",
              "    }\n",
              "    80% {\n",
              "      border-color: transparent;\n",
              "      border-right-color: var(--fill-color);\n",
              "      border-bottom-color: var(--fill-color);\n",
              "    }\n",
              "    90% {\n",
              "      border-color: transparent;\n",
              "      border-bottom-color: var(--fill-color);\n",
              "    }\n",
              "  }\n",
              "</style>\n",
              "\n",
              "  <script>\n",
              "    async function quickchart(key) {\n",
              "      const quickchartButtonEl =\n",
              "        document.querySelector('#' + key + ' button');\n",
              "      quickchartButtonEl.disabled = true;  // To prevent multiple clicks.\n",
              "      quickchartButtonEl.classList.add('colab-df-spinner');\n",
              "      try {\n",
              "        const charts = await google.colab.kernel.invokeFunction(\n",
              "            'suggestCharts', [key], {});\n",
              "      } catch (error) {\n",
              "        console.error('Error during call to suggestCharts:', error);\n",
              "      }\n",
              "      quickchartButtonEl.classList.remove('colab-df-spinner');\n",
              "      quickchartButtonEl.classList.add('colab-df-quickchart-complete');\n",
              "    }\n",
              "    (() => {\n",
              "      let quickchartButtonEl =\n",
              "        document.querySelector('#df-76905b9a-9fbe-477a-bd12-4397c4b70a3a button');\n",
              "      quickchartButtonEl.style.display =\n",
              "        google.colab.kernel.accessAllowed ? 'block' : 'none';\n",
              "    })();\n",
              "  </script>\n",
              "</div>\n",
              "    </div>\n",
              "  </div>\n"
            ]
          },
          "metadata": {},
          "execution_count": 8
        }
      ],
      "source": [
        "iris = pd.DataFrame(data.data, columns=data.feature_names)\n",
        "iris.head()"
      ]
    },
    {
      "cell_type": "code",
      "execution_count": 9,
      "metadata": {
        "colab": {
          "base_uri": "https://localhost:8080/"
        },
        "id": "vsewgUsbNjMK",
        "outputId": "07a3f1a7-65a7-40d6-ba6c-6785305c75dc"
      },
      "outputs": [
        {
          "output_type": "execute_result",
          "data": {
            "text/plain": [
              "(array([0, 1, 2]), array([50, 50, 50]))"
            ]
          },
          "metadata": {},
          "execution_count": 9
        }
      ],
      "source": [
        "np.unique(data.target, return_counts=True)"
      ]
    },
    {
      "cell_type": "code",
      "execution_count": 11,
      "metadata": {
        "colab": {
          "base_uri": "https://localhost:8080/"
        },
        "id": "sPAWIIyeNjMK",
        "outputId": "338da959-adcc-43be-a77d-cf113bad8961"
      },
      "outputs": [
        {
          "output_type": "execute_result",
          "data": {
            "text/plain": [
              "array([['0', 'setosa'],\n",
              "       ['0', 'setosa'],\n",
              "       ['0', 'setosa'],\n",
              "       ['0', 'setosa'],\n",
              "       ['0', 'setosa'],\n",
              "       ['0', 'setosa'],\n",
              "       ['0', 'setosa'],\n",
              "       ['0', 'setosa'],\n",
              "       ['0', 'setosa'],\n",
              "       ['0', 'setosa'],\n",
              "       ['0', 'setosa'],\n",
              "       ['0', 'setosa'],\n",
              "       ['0', 'setosa'],\n",
              "       ['0', 'setosa'],\n",
              "       ['0', 'setosa'],\n",
              "       ['0', 'setosa'],\n",
              "       ['0', 'setosa'],\n",
              "       ['0', 'setosa'],\n",
              "       ['0', 'setosa'],\n",
              "       ['0', 'setosa'],\n",
              "       ['0', 'setosa'],\n",
              "       ['0', 'setosa'],\n",
              "       ['0', 'setosa'],\n",
              "       ['0', 'setosa'],\n",
              "       ['0', 'setosa'],\n",
              "       ['0', 'setosa'],\n",
              "       ['0', 'setosa'],\n",
              "       ['0', 'setosa'],\n",
              "       ['0', 'setosa'],\n",
              "       ['0', 'setosa'],\n",
              "       ['0', 'setosa'],\n",
              "       ['0', 'setosa'],\n",
              "       ['0', 'setosa'],\n",
              "       ['0', 'setosa'],\n",
              "       ['0', 'setosa'],\n",
              "       ['0', 'setosa'],\n",
              "       ['0', 'setosa'],\n",
              "       ['0', 'setosa'],\n",
              "       ['0', 'setosa'],\n",
              "       ['0', 'setosa'],\n",
              "       ['0', 'setosa'],\n",
              "       ['0', 'setosa'],\n",
              "       ['0', 'setosa'],\n",
              "       ['0', 'setosa'],\n",
              "       ['0', 'setosa'],\n",
              "       ['0', 'setosa'],\n",
              "       ['0', 'setosa'],\n",
              "       ['0', 'setosa'],\n",
              "       ['0', 'setosa'],\n",
              "       ['0', 'setosa'],\n",
              "       ['1', 'versicolor'],\n",
              "       ['1', 'versicolor'],\n",
              "       ['1', 'versicolor'],\n",
              "       ['1', 'versicolor'],\n",
              "       ['1', 'versicolor'],\n",
              "       ['1', 'versicolor'],\n",
              "       ['1', 'versicolor'],\n",
              "       ['1', 'versicolor'],\n",
              "       ['1', 'versicolor'],\n",
              "       ['1', 'versicolor'],\n",
              "       ['1', 'versicolor'],\n",
              "       ['1', 'versicolor'],\n",
              "       ['1', 'versicolor'],\n",
              "       ['1', 'versicolor'],\n",
              "       ['1', 'versicolor'],\n",
              "       ['1', 'versicolor'],\n",
              "       ['1', 'versicolor'],\n",
              "       ['1', 'versicolor'],\n",
              "       ['1', 'versicolor'],\n",
              "       ['1', 'versicolor'],\n",
              "       ['1', 'versicolor'],\n",
              "       ['1', 'versicolor'],\n",
              "       ['1', 'versicolor'],\n",
              "       ['1', 'versicolor'],\n",
              "       ['1', 'versicolor'],\n",
              "       ['1', 'versicolor'],\n",
              "       ['1', 'versicolor'],\n",
              "       ['1', 'versicolor'],\n",
              "       ['1', 'versicolor'],\n",
              "       ['1', 'versicolor'],\n",
              "       ['1', 'versicolor'],\n",
              "       ['1', 'versicolor'],\n",
              "       ['1', 'versicolor'],\n",
              "       ['1', 'versicolor'],\n",
              "       ['1', 'versicolor'],\n",
              "       ['1', 'versicolor'],\n",
              "       ['1', 'versicolor'],\n",
              "       ['1', 'versicolor'],\n",
              "       ['1', 'versicolor'],\n",
              "       ['1', 'versicolor'],\n",
              "       ['1', 'versicolor'],\n",
              "       ['1', 'versicolor'],\n",
              "       ['1', 'versicolor'],\n",
              "       ['1', 'versicolor'],\n",
              "       ['1', 'versicolor'],\n",
              "       ['1', 'versicolor'],\n",
              "       ['1', 'versicolor'],\n",
              "       ['1', 'versicolor'],\n",
              "       ['1', 'versicolor'],\n",
              "       ['1', 'versicolor'],\n",
              "       ['2', 'virginica'],\n",
              "       ['2', 'virginica'],\n",
              "       ['2', 'virginica'],\n",
              "       ['2', 'virginica'],\n",
              "       ['2', 'virginica'],\n",
              "       ['2', 'virginica'],\n",
              "       ['2', 'virginica'],\n",
              "       ['2', 'virginica'],\n",
              "       ['2', 'virginica'],\n",
              "       ['2', 'virginica'],\n",
              "       ['2', 'virginica'],\n",
              "       ['2', 'virginica'],\n",
              "       ['2', 'virginica'],\n",
              "       ['2', 'virginica'],\n",
              "       ['2', 'virginica'],\n",
              "       ['2', 'virginica'],\n",
              "       ['2', 'virginica'],\n",
              "       ['2', 'virginica'],\n",
              "       ['2', 'virginica'],\n",
              "       ['2', 'virginica'],\n",
              "       ['2', 'virginica'],\n",
              "       ['2', 'virginica'],\n",
              "       ['2', 'virginica'],\n",
              "       ['2', 'virginica'],\n",
              "       ['2', 'virginica'],\n",
              "       ['2', 'virginica'],\n",
              "       ['2', 'virginica'],\n",
              "       ['2', 'virginica'],\n",
              "       ['2', 'virginica'],\n",
              "       ['2', 'virginica'],\n",
              "       ['2', 'virginica'],\n",
              "       ['2', 'virginica'],\n",
              "       ['2', 'virginica'],\n",
              "       ['2', 'virginica'],\n",
              "       ['2', 'virginica'],\n",
              "       ['2', 'virginica'],\n",
              "       ['2', 'virginica'],\n",
              "       ['2', 'virginica'],\n",
              "       ['2', 'virginica'],\n",
              "       ['2', 'virginica'],\n",
              "       ['2', 'virginica'],\n",
              "       ['2', 'virginica'],\n",
              "       ['2', 'virginica'],\n",
              "       ['2', 'virginica'],\n",
              "       ['2', 'virginica'],\n",
              "       ['2', 'virginica'],\n",
              "       ['2', 'virginica'],\n",
              "       ['2', 'virginica'],\n",
              "       ['2', 'virginica'],\n",
              "       ['2', 'virginica']], dtype='<U21')"
            ]
          },
          "metadata": {},
          "execution_count": 11
        }
      ],
      "source": [
        "np.hstack((data.target.reshape(-1,1), data.target_names[data.target].reshape(-1,1)))"
      ]
    },
    {
      "cell_type": "code",
      "execution_count": 12,
      "metadata": {
        "colab": {
          "base_uri": "https://localhost:8080/",
          "height": 206
        },
        "id": "2lUle-c3NjMK",
        "outputId": "a086ebba-46d7-42d4-eb91-3c837478608a"
      },
      "outputs": [
        {
          "output_type": "execute_result",
          "data": {
            "text/plain": [
              "    sl   sw   pl   pw Species\n",
              "0  5.1  3.5  1.4  0.2  setosa\n",
              "1  4.9  3.0  1.4  0.2  setosa\n",
              "2  4.7  3.2  1.3  0.2  setosa\n",
              "3  4.6  3.1  1.5  0.2  setosa\n",
              "4  5.0  3.6  1.4  0.2  setosa"
            ],
            "text/html": [
              "\n",
              "  <div id=\"df-7374a175-2806-4284-a3f5-82ecf71522ce\" class=\"colab-df-container\">\n",
              "    <div>\n",
              "<style scoped>\n",
              "    .dataframe tbody tr th:only-of-type {\n",
              "        vertical-align: middle;\n",
              "    }\n",
              "\n",
              "    .dataframe tbody tr th {\n",
              "        vertical-align: top;\n",
              "    }\n",
              "\n",
              "    .dataframe thead th {\n",
              "        text-align: right;\n",
              "    }\n",
              "</style>\n",
              "<table border=\"1\" class=\"dataframe\">\n",
              "  <thead>\n",
              "    <tr style=\"text-align: right;\">\n",
              "      <th></th>\n",
              "      <th>sl</th>\n",
              "      <th>sw</th>\n",
              "      <th>pl</th>\n",
              "      <th>pw</th>\n",
              "      <th>Species</th>\n",
              "    </tr>\n",
              "  </thead>\n",
              "  <tbody>\n",
              "    <tr>\n",
              "      <th>0</th>\n",
              "      <td>5.1</td>\n",
              "      <td>3.5</td>\n",
              "      <td>1.4</td>\n",
              "      <td>0.2</td>\n",
              "      <td>setosa</td>\n",
              "    </tr>\n",
              "    <tr>\n",
              "      <th>1</th>\n",
              "      <td>4.9</td>\n",
              "      <td>3.0</td>\n",
              "      <td>1.4</td>\n",
              "      <td>0.2</td>\n",
              "      <td>setosa</td>\n",
              "    </tr>\n",
              "    <tr>\n",
              "      <th>2</th>\n",
              "      <td>4.7</td>\n",
              "      <td>3.2</td>\n",
              "      <td>1.3</td>\n",
              "      <td>0.2</td>\n",
              "      <td>setosa</td>\n",
              "    </tr>\n",
              "    <tr>\n",
              "      <th>3</th>\n",
              "      <td>4.6</td>\n",
              "      <td>3.1</td>\n",
              "      <td>1.5</td>\n",
              "      <td>0.2</td>\n",
              "      <td>setosa</td>\n",
              "    </tr>\n",
              "    <tr>\n",
              "      <th>4</th>\n",
              "      <td>5.0</td>\n",
              "      <td>3.6</td>\n",
              "      <td>1.4</td>\n",
              "      <td>0.2</td>\n",
              "      <td>setosa</td>\n",
              "    </tr>\n",
              "  </tbody>\n",
              "</table>\n",
              "</div>\n",
              "    <div class=\"colab-df-buttons\">\n",
              "\n",
              "  <div class=\"colab-df-container\">\n",
              "    <button class=\"colab-df-convert\" onclick=\"convertToInteractive('df-7374a175-2806-4284-a3f5-82ecf71522ce')\"\n",
              "            title=\"Convert this dataframe to an interactive table.\"\n",
              "            style=\"display:none;\">\n",
              "\n",
              "  <svg xmlns=\"http://www.w3.org/2000/svg\" height=\"24px\" viewBox=\"0 -960 960 960\">\n",
              "    <path d=\"M120-120v-720h720v720H120Zm60-500h600v-160H180v160Zm220 220h160v-160H400v160Zm0 220h160v-160H400v160ZM180-400h160v-160H180v160Zm440 0h160v-160H620v160ZM180-180h160v-160H180v160Zm440 0h160v-160H620v160Z\"/>\n",
              "  </svg>\n",
              "    </button>\n",
              "\n",
              "  <style>\n",
              "    .colab-df-container {\n",
              "      display:flex;\n",
              "      gap: 12px;\n",
              "    }\n",
              "\n",
              "    .colab-df-convert {\n",
              "      background-color: #E8F0FE;\n",
              "      border: none;\n",
              "      border-radius: 50%;\n",
              "      cursor: pointer;\n",
              "      display: none;\n",
              "      fill: #1967D2;\n",
              "      height: 32px;\n",
              "      padding: 0 0 0 0;\n",
              "      width: 32px;\n",
              "    }\n",
              "\n",
              "    .colab-df-convert:hover {\n",
              "      background-color: #E2EBFA;\n",
              "      box-shadow: 0px 1px 2px rgba(60, 64, 67, 0.3), 0px 1px 3px 1px rgba(60, 64, 67, 0.15);\n",
              "      fill: #174EA6;\n",
              "    }\n",
              "\n",
              "    .colab-df-buttons div {\n",
              "      margin-bottom: 4px;\n",
              "    }\n",
              "\n",
              "    [theme=dark] .colab-df-convert {\n",
              "      background-color: #3B4455;\n",
              "      fill: #D2E3FC;\n",
              "    }\n",
              "\n",
              "    [theme=dark] .colab-df-convert:hover {\n",
              "      background-color: #434B5C;\n",
              "      box-shadow: 0px 1px 3px 1px rgba(0, 0, 0, 0.15);\n",
              "      filter: drop-shadow(0px 1px 2px rgba(0, 0, 0, 0.3));\n",
              "      fill: #FFFFFF;\n",
              "    }\n",
              "  </style>\n",
              "\n",
              "    <script>\n",
              "      const buttonEl =\n",
              "        document.querySelector('#df-7374a175-2806-4284-a3f5-82ecf71522ce button.colab-df-convert');\n",
              "      buttonEl.style.display =\n",
              "        google.colab.kernel.accessAllowed ? 'block' : 'none';\n",
              "\n",
              "      async function convertToInteractive(key) {\n",
              "        const element = document.querySelector('#df-7374a175-2806-4284-a3f5-82ecf71522ce');\n",
              "        const dataTable =\n",
              "          await google.colab.kernel.invokeFunction('convertToInteractive',\n",
              "                                                    [key], {});\n",
              "        if (!dataTable) return;\n",
              "\n",
              "        const docLinkHtml = 'Like what you see? Visit the ' +\n",
              "          '<a target=\"_blank\" href=https://colab.research.google.com/notebooks/data_table.ipynb>data table notebook</a>'\n",
              "          + ' to learn more about interactive tables.';\n",
              "        element.innerHTML = '';\n",
              "        dataTable['output_type'] = 'display_data';\n",
              "        await google.colab.output.renderOutput(dataTable, element);\n",
              "        const docLink = document.createElement('div');\n",
              "        docLink.innerHTML = docLinkHtml;\n",
              "        element.appendChild(docLink);\n",
              "      }\n",
              "    </script>\n",
              "  </div>\n",
              "\n",
              "\n",
              "<div id=\"df-5cc63e69-f10b-46aa-9344-c89fc776a21c\">\n",
              "  <button class=\"colab-df-quickchart\" onclick=\"quickchart('df-5cc63e69-f10b-46aa-9344-c89fc776a21c')\"\n",
              "            title=\"Suggest charts.\"\n",
              "            style=\"display:none;\">\n",
              "\n",
              "<svg xmlns=\"http://www.w3.org/2000/svg\" height=\"24px\"viewBox=\"0 0 24 24\"\n",
              "     width=\"24px\">\n",
              "    <g>\n",
              "        <path d=\"M19 3H5c-1.1 0-2 .9-2 2v14c0 1.1.9 2 2 2h14c1.1 0 2-.9 2-2V5c0-1.1-.9-2-2-2zM9 17H7v-7h2v7zm4 0h-2V7h2v10zm4 0h-2v-4h2v4z\"/>\n",
              "    </g>\n",
              "</svg>\n",
              "  </button>\n",
              "\n",
              "<style>\n",
              "  .colab-df-quickchart {\n",
              "      --bg-color: #E8F0FE;\n",
              "      --fill-color: #1967D2;\n",
              "      --hover-bg-color: #E2EBFA;\n",
              "      --hover-fill-color: #174EA6;\n",
              "      --disabled-fill-color: #AAA;\n",
              "      --disabled-bg-color: #DDD;\n",
              "  }\n",
              "\n",
              "  [theme=dark] .colab-df-quickchart {\n",
              "      --bg-color: #3B4455;\n",
              "      --fill-color: #D2E3FC;\n",
              "      --hover-bg-color: #434B5C;\n",
              "      --hover-fill-color: #FFFFFF;\n",
              "      --disabled-bg-color: #3B4455;\n",
              "      --disabled-fill-color: #666;\n",
              "  }\n",
              "\n",
              "  .colab-df-quickchart {\n",
              "    background-color: var(--bg-color);\n",
              "    border: none;\n",
              "    border-radius: 50%;\n",
              "    cursor: pointer;\n",
              "    display: none;\n",
              "    fill: var(--fill-color);\n",
              "    height: 32px;\n",
              "    padding: 0;\n",
              "    width: 32px;\n",
              "  }\n",
              "\n",
              "  .colab-df-quickchart:hover {\n",
              "    background-color: var(--hover-bg-color);\n",
              "    box-shadow: 0 1px 2px rgba(60, 64, 67, 0.3), 0 1px 3px 1px rgba(60, 64, 67, 0.15);\n",
              "    fill: var(--button-hover-fill-color);\n",
              "  }\n",
              "\n",
              "  .colab-df-quickchart-complete:disabled,\n",
              "  .colab-df-quickchart-complete:disabled:hover {\n",
              "    background-color: var(--disabled-bg-color);\n",
              "    fill: var(--disabled-fill-color);\n",
              "    box-shadow: none;\n",
              "  }\n",
              "\n",
              "  .colab-df-spinner {\n",
              "    border: 2px solid var(--fill-color);\n",
              "    border-color: transparent;\n",
              "    border-bottom-color: var(--fill-color);\n",
              "    animation:\n",
              "      spin 1s steps(1) infinite;\n",
              "  }\n",
              "\n",
              "  @keyframes spin {\n",
              "    0% {\n",
              "      border-color: transparent;\n",
              "      border-bottom-color: var(--fill-color);\n",
              "      border-left-color: var(--fill-color);\n",
              "    }\n",
              "    20% {\n",
              "      border-color: transparent;\n",
              "      border-left-color: var(--fill-color);\n",
              "      border-top-color: var(--fill-color);\n",
              "    }\n",
              "    30% {\n",
              "      border-color: transparent;\n",
              "      border-left-color: var(--fill-color);\n",
              "      border-top-color: var(--fill-color);\n",
              "      border-right-color: var(--fill-color);\n",
              "    }\n",
              "    40% {\n",
              "      border-color: transparent;\n",
              "      border-right-color: var(--fill-color);\n",
              "      border-top-color: var(--fill-color);\n",
              "    }\n",
              "    60% {\n",
              "      border-color: transparent;\n",
              "      border-right-color: var(--fill-color);\n",
              "    }\n",
              "    80% {\n",
              "      border-color: transparent;\n",
              "      border-right-color: var(--fill-color);\n",
              "      border-bottom-color: var(--fill-color);\n",
              "    }\n",
              "    90% {\n",
              "      border-color: transparent;\n",
              "      border-bottom-color: var(--fill-color);\n",
              "    }\n",
              "  }\n",
              "</style>\n",
              "\n",
              "  <script>\n",
              "    async function quickchart(key) {\n",
              "      const quickchartButtonEl =\n",
              "        document.querySelector('#' + key + ' button');\n",
              "      quickchartButtonEl.disabled = true;  // To prevent multiple clicks.\n",
              "      quickchartButtonEl.classList.add('colab-df-spinner');\n",
              "      try {\n",
              "        const charts = await google.colab.kernel.invokeFunction(\n",
              "            'suggestCharts', [key], {});\n",
              "      } catch (error) {\n",
              "        console.error('Error during call to suggestCharts:', error);\n",
              "      }\n",
              "      quickchartButtonEl.classList.remove('colab-df-spinner');\n",
              "      quickchartButtonEl.classList.add('colab-df-quickchart-complete');\n",
              "    }\n",
              "    (() => {\n",
              "      let quickchartButtonEl =\n",
              "        document.querySelector('#df-5cc63e69-f10b-46aa-9344-c89fc776a21c button');\n",
              "      quickchartButtonEl.style.display =\n",
              "        google.colab.kernel.accessAllowed ? 'block' : 'none';\n",
              "    })();\n",
              "  </script>\n",
              "</div>\n",
              "    </div>\n",
              "  </div>\n"
            ]
          },
          "metadata": {},
          "execution_count": 12
        }
      ],
      "source": [
        "iris.columns = ['sl', 'sw', 'pl', 'pw']\n",
        "iris['Species'] = data.target_names[data.target]\n",
        "iris.head()"
      ]
    },
    {
      "cell_type": "code",
      "execution_count": 13,
      "metadata": {
        "colab": {
          "base_uri": "https://localhost:8080/"
        },
        "id": "lkqmcuL1NjMK",
        "outputId": "313503d1-43cb-4ae2-f24d-75bc5686f12a"
      },
      "outputs": [
        {
          "output_type": "execute_result",
          "data": {
            "text/plain": [
              "sl         0\n",
              "sw         0\n",
              "pl         0\n",
              "pw         0\n",
              "Species    0\n",
              "dtype: int64"
            ]
          },
          "metadata": {},
          "execution_count": 13
        }
      ],
      "source": [
        "iris.isna().sum()"
      ]
    },
    {
      "cell_type": "code",
      "execution_count": 14,
      "metadata": {
        "colab": {
          "base_uri": "https://localhost:8080/"
        },
        "id": "5GPlSLapNjML",
        "outputId": "1b5f7219-0857-416a-8672-1de940817b96"
      },
      "outputs": [
        {
          "output_type": "stream",
          "name": "stdout",
          "text": [
            "<class 'pandas.core.frame.DataFrame'>\n",
            "RangeIndex: 150 entries, 0 to 149\n",
            "Data columns (total 5 columns):\n",
            " #   Column   Non-Null Count  Dtype  \n",
            "---  ------   --------------  -----  \n",
            " 0   sl       150 non-null    float64\n",
            " 1   sw       150 non-null    float64\n",
            " 2   pl       150 non-null    float64\n",
            " 3   pw       150 non-null    float64\n",
            " 4   Species  150 non-null    object \n",
            "dtypes: float64(4), object(1)\n",
            "memory usage: 6.0+ KB\n"
          ]
        }
      ],
      "source": [
        "iris.info()"
      ]
    },
    {
      "cell_type": "code",
      "execution_count": 15,
      "metadata": {
        "colab": {
          "base_uri": "https://localhost:8080/",
          "height": 300
        },
        "id": "4gf1aJ0bNjML",
        "outputId": "86b1e685-ff33-4b8f-d122-048ffaff3fbd"
      },
      "outputs": [
        {
          "output_type": "execute_result",
          "data": {
            "text/plain": [
              "               sl          sw          pl          pw\n",
              "count  150.000000  150.000000  150.000000  150.000000\n",
              "mean     5.843333    3.057333    3.758000    1.199333\n",
              "std      0.828066    0.435866    1.765298    0.762238\n",
              "min      4.300000    2.000000    1.000000    0.100000\n",
              "25%      5.100000    2.800000    1.600000    0.300000\n",
              "50%      5.800000    3.000000    4.350000    1.300000\n",
              "75%      6.400000    3.300000    5.100000    1.800000\n",
              "max      7.900000    4.400000    6.900000    2.500000"
            ],
            "text/html": [
              "\n",
              "  <div id=\"df-dbf78598-c07c-4f74-a2cc-6fdeb1ccecba\" class=\"colab-df-container\">\n",
              "    <div>\n",
              "<style scoped>\n",
              "    .dataframe tbody tr th:only-of-type {\n",
              "        vertical-align: middle;\n",
              "    }\n",
              "\n",
              "    .dataframe tbody tr th {\n",
              "        vertical-align: top;\n",
              "    }\n",
              "\n",
              "    .dataframe thead th {\n",
              "        text-align: right;\n",
              "    }\n",
              "</style>\n",
              "<table border=\"1\" class=\"dataframe\">\n",
              "  <thead>\n",
              "    <tr style=\"text-align: right;\">\n",
              "      <th></th>\n",
              "      <th>sl</th>\n",
              "      <th>sw</th>\n",
              "      <th>pl</th>\n",
              "      <th>pw</th>\n",
              "    </tr>\n",
              "  </thead>\n",
              "  <tbody>\n",
              "    <tr>\n",
              "      <th>count</th>\n",
              "      <td>150.000000</td>\n",
              "      <td>150.000000</td>\n",
              "      <td>150.000000</td>\n",
              "      <td>150.000000</td>\n",
              "    </tr>\n",
              "    <tr>\n",
              "      <th>mean</th>\n",
              "      <td>5.843333</td>\n",
              "      <td>3.057333</td>\n",
              "      <td>3.758000</td>\n",
              "      <td>1.199333</td>\n",
              "    </tr>\n",
              "    <tr>\n",
              "      <th>std</th>\n",
              "      <td>0.828066</td>\n",
              "      <td>0.435866</td>\n",
              "      <td>1.765298</td>\n",
              "      <td>0.762238</td>\n",
              "    </tr>\n",
              "    <tr>\n",
              "      <th>min</th>\n",
              "      <td>4.300000</td>\n",
              "      <td>2.000000</td>\n",
              "      <td>1.000000</td>\n",
              "      <td>0.100000</td>\n",
              "    </tr>\n",
              "    <tr>\n",
              "      <th>25%</th>\n",
              "      <td>5.100000</td>\n",
              "      <td>2.800000</td>\n",
              "      <td>1.600000</td>\n",
              "      <td>0.300000</td>\n",
              "    </tr>\n",
              "    <tr>\n",
              "      <th>50%</th>\n",
              "      <td>5.800000</td>\n",
              "      <td>3.000000</td>\n",
              "      <td>4.350000</td>\n",
              "      <td>1.300000</td>\n",
              "    </tr>\n",
              "    <tr>\n",
              "      <th>75%</th>\n",
              "      <td>6.400000</td>\n",
              "      <td>3.300000</td>\n",
              "      <td>5.100000</td>\n",
              "      <td>1.800000</td>\n",
              "    </tr>\n",
              "    <tr>\n",
              "      <th>max</th>\n",
              "      <td>7.900000</td>\n",
              "      <td>4.400000</td>\n",
              "      <td>6.900000</td>\n",
              "      <td>2.500000</td>\n",
              "    </tr>\n",
              "  </tbody>\n",
              "</table>\n",
              "</div>\n",
              "    <div class=\"colab-df-buttons\">\n",
              "\n",
              "  <div class=\"colab-df-container\">\n",
              "    <button class=\"colab-df-convert\" onclick=\"convertToInteractive('df-dbf78598-c07c-4f74-a2cc-6fdeb1ccecba')\"\n",
              "            title=\"Convert this dataframe to an interactive table.\"\n",
              "            style=\"display:none;\">\n",
              "\n",
              "  <svg xmlns=\"http://www.w3.org/2000/svg\" height=\"24px\" viewBox=\"0 -960 960 960\">\n",
              "    <path d=\"M120-120v-720h720v720H120Zm60-500h600v-160H180v160Zm220 220h160v-160H400v160Zm0 220h160v-160H400v160ZM180-400h160v-160H180v160Zm440 0h160v-160H620v160ZM180-180h160v-160H180v160Zm440 0h160v-160H620v160Z\"/>\n",
              "  </svg>\n",
              "    </button>\n",
              "\n",
              "  <style>\n",
              "    .colab-df-container {\n",
              "      display:flex;\n",
              "      gap: 12px;\n",
              "    }\n",
              "\n",
              "    .colab-df-convert {\n",
              "      background-color: #E8F0FE;\n",
              "      border: none;\n",
              "      border-radius: 50%;\n",
              "      cursor: pointer;\n",
              "      display: none;\n",
              "      fill: #1967D2;\n",
              "      height: 32px;\n",
              "      padding: 0 0 0 0;\n",
              "      width: 32px;\n",
              "    }\n",
              "\n",
              "    .colab-df-convert:hover {\n",
              "      background-color: #E2EBFA;\n",
              "      box-shadow: 0px 1px 2px rgba(60, 64, 67, 0.3), 0px 1px 3px 1px rgba(60, 64, 67, 0.15);\n",
              "      fill: #174EA6;\n",
              "    }\n",
              "\n",
              "    .colab-df-buttons div {\n",
              "      margin-bottom: 4px;\n",
              "    }\n",
              "\n",
              "    [theme=dark] .colab-df-convert {\n",
              "      background-color: #3B4455;\n",
              "      fill: #D2E3FC;\n",
              "    }\n",
              "\n",
              "    [theme=dark] .colab-df-convert:hover {\n",
              "      background-color: #434B5C;\n",
              "      box-shadow: 0px 1px 3px 1px rgba(0, 0, 0, 0.15);\n",
              "      filter: drop-shadow(0px 1px 2px rgba(0, 0, 0, 0.3));\n",
              "      fill: #FFFFFF;\n",
              "    }\n",
              "  </style>\n",
              "\n",
              "    <script>\n",
              "      const buttonEl =\n",
              "        document.querySelector('#df-dbf78598-c07c-4f74-a2cc-6fdeb1ccecba button.colab-df-convert');\n",
              "      buttonEl.style.display =\n",
              "        google.colab.kernel.accessAllowed ? 'block' : 'none';\n",
              "\n",
              "      async function convertToInteractive(key) {\n",
              "        const element = document.querySelector('#df-dbf78598-c07c-4f74-a2cc-6fdeb1ccecba');\n",
              "        const dataTable =\n",
              "          await google.colab.kernel.invokeFunction('convertToInteractive',\n",
              "                                                    [key], {});\n",
              "        if (!dataTable) return;\n",
              "\n",
              "        const docLinkHtml = 'Like what you see? Visit the ' +\n",
              "          '<a target=\"_blank\" href=https://colab.research.google.com/notebooks/data_table.ipynb>data table notebook</a>'\n",
              "          + ' to learn more about interactive tables.';\n",
              "        element.innerHTML = '';\n",
              "        dataTable['output_type'] = 'display_data';\n",
              "        await google.colab.output.renderOutput(dataTable, element);\n",
              "        const docLink = document.createElement('div');\n",
              "        docLink.innerHTML = docLinkHtml;\n",
              "        element.appendChild(docLink);\n",
              "      }\n",
              "    </script>\n",
              "  </div>\n",
              "\n",
              "\n",
              "<div id=\"df-06c407e3-5c15-4bbb-a0ae-aa34be0308b8\">\n",
              "  <button class=\"colab-df-quickchart\" onclick=\"quickchart('df-06c407e3-5c15-4bbb-a0ae-aa34be0308b8')\"\n",
              "            title=\"Suggest charts.\"\n",
              "            style=\"display:none;\">\n",
              "\n",
              "<svg xmlns=\"http://www.w3.org/2000/svg\" height=\"24px\"viewBox=\"0 0 24 24\"\n",
              "     width=\"24px\">\n",
              "    <g>\n",
              "        <path d=\"M19 3H5c-1.1 0-2 .9-2 2v14c0 1.1.9 2 2 2h14c1.1 0 2-.9 2-2V5c0-1.1-.9-2-2-2zM9 17H7v-7h2v7zm4 0h-2V7h2v10zm4 0h-2v-4h2v4z\"/>\n",
              "    </g>\n",
              "</svg>\n",
              "  </button>\n",
              "\n",
              "<style>\n",
              "  .colab-df-quickchart {\n",
              "      --bg-color: #E8F0FE;\n",
              "      --fill-color: #1967D2;\n",
              "      --hover-bg-color: #E2EBFA;\n",
              "      --hover-fill-color: #174EA6;\n",
              "      --disabled-fill-color: #AAA;\n",
              "      --disabled-bg-color: #DDD;\n",
              "  }\n",
              "\n",
              "  [theme=dark] .colab-df-quickchart {\n",
              "      --bg-color: #3B4455;\n",
              "      --fill-color: #D2E3FC;\n",
              "      --hover-bg-color: #434B5C;\n",
              "      --hover-fill-color: #FFFFFF;\n",
              "      --disabled-bg-color: #3B4455;\n",
              "      --disabled-fill-color: #666;\n",
              "  }\n",
              "\n",
              "  .colab-df-quickchart {\n",
              "    background-color: var(--bg-color);\n",
              "    border: none;\n",
              "    border-radius: 50%;\n",
              "    cursor: pointer;\n",
              "    display: none;\n",
              "    fill: var(--fill-color);\n",
              "    height: 32px;\n",
              "    padding: 0;\n",
              "    width: 32px;\n",
              "  }\n",
              "\n",
              "  .colab-df-quickchart:hover {\n",
              "    background-color: var(--hover-bg-color);\n",
              "    box-shadow: 0 1px 2px rgba(60, 64, 67, 0.3), 0 1px 3px 1px rgba(60, 64, 67, 0.15);\n",
              "    fill: var(--button-hover-fill-color);\n",
              "  }\n",
              "\n",
              "  .colab-df-quickchart-complete:disabled,\n",
              "  .colab-df-quickchart-complete:disabled:hover {\n",
              "    background-color: var(--disabled-bg-color);\n",
              "    fill: var(--disabled-fill-color);\n",
              "    box-shadow: none;\n",
              "  }\n",
              "\n",
              "  .colab-df-spinner {\n",
              "    border: 2px solid var(--fill-color);\n",
              "    border-color: transparent;\n",
              "    border-bottom-color: var(--fill-color);\n",
              "    animation:\n",
              "      spin 1s steps(1) infinite;\n",
              "  }\n",
              "\n",
              "  @keyframes spin {\n",
              "    0% {\n",
              "      border-color: transparent;\n",
              "      border-bottom-color: var(--fill-color);\n",
              "      border-left-color: var(--fill-color);\n",
              "    }\n",
              "    20% {\n",
              "      border-color: transparent;\n",
              "      border-left-color: var(--fill-color);\n",
              "      border-top-color: var(--fill-color);\n",
              "    }\n",
              "    30% {\n",
              "      border-color: transparent;\n",
              "      border-left-color: var(--fill-color);\n",
              "      border-top-color: var(--fill-color);\n",
              "      border-right-color: var(--fill-color);\n",
              "    }\n",
              "    40% {\n",
              "      border-color: transparent;\n",
              "      border-right-color: var(--fill-color);\n",
              "      border-top-color: var(--fill-color);\n",
              "    }\n",
              "    60% {\n",
              "      border-color: transparent;\n",
              "      border-right-color: var(--fill-color);\n",
              "    }\n",
              "    80% {\n",
              "      border-color: transparent;\n",
              "      border-right-color: var(--fill-color);\n",
              "      border-bottom-color: var(--fill-color);\n",
              "    }\n",
              "    90% {\n",
              "      border-color: transparent;\n",
              "      border-bottom-color: var(--fill-color);\n",
              "    }\n",
              "  }\n",
              "</style>\n",
              "\n",
              "  <script>\n",
              "    async function quickchart(key) {\n",
              "      const quickchartButtonEl =\n",
              "        document.querySelector('#' + key + ' button');\n",
              "      quickchartButtonEl.disabled = true;  // To prevent multiple clicks.\n",
              "      quickchartButtonEl.classList.add('colab-df-spinner');\n",
              "      try {\n",
              "        const charts = await google.colab.kernel.invokeFunction(\n",
              "            'suggestCharts', [key], {});\n",
              "      } catch (error) {\n",
              "        console.error('Error during call to suggestCharts:', error);\n",
              "      }\n",
              "      quickchartButtonEl.classList.remove('colab-df-spinner');\n",
              "      quickchartButtonEl.classList.add('colab-df-quickchart-complete');\n",
              "    }\n",
              "    (() => {\n",
              "      let quickchartButtonEl =\n",
              "        document.querySelector('#df-06c407e3-5c15-4bbb-a0ae-aa34be0308b8 button');\n",
              "      quickchartButtonEl.style.display =\n",
              "        google.colab.kernel.accessAllowed ? 'block' : 'none';\n",
              "    })();\n",
              "  </script>\n",
              "</div>\n",
              "    </div>\n",
              "  </div>\n"
            ]
          },
          "metadata": {},
          "execution_count": 15
        }
      ],
      "source": [
        "iris.describe()"
      ]
    },
    {
      "cell_type": "code",
      "execution_count": 16,
      "metadata": {
        "colab": {
          "base_uri": "https://localhost:8080/"
        },
        "id": "65y23rcXNjMM",
        "outputId": "72d8eb2b-4b1d-4a64-9576-5423fdda4f56"
      },
      "outputs": [
        {
          "output_type": "stream",
          "name": "stdout",
          "text": [
            "setosa        50\n",
            "versicolor    50\n",
            "virginica     50\n",
            "Name: Species, dtype: int64\n"
          ]
        }
      ],
      "source": [
        "edaForCategory = {}\n",
        "for col in np.where(iris.dtypes == object)[0]:\n",
        "    edaForCategory[iris.columns[col]] = iris.iloc[:, col].value_counts()\n",
        "    print(edaForCategory[iris.columns[col]])"
      ]
    },
    {
      "cell_type": "code",
      "execution_count": 17,
      "metadata": {
        "colab": {
          "base_uri": "https://localhost:8080/"
        },
        "id": "wRj47UR1NjMM",
        "outputId": "e9906684-fe9b-422f-f044-f7d331c2deda"
      },
      "outputs": [
        {
          "output_type": "execute_result",
          "data": {
            "text/plain": [
              "Species\n",
              "setosa        50\n",
              "versicolor    50\n",
              "virginica     50\n",
              "dtype: int64"
            ]
          },
          "metadata": {},
          "execution_count": 17
        }
      ],
      "source": [
        "iris.groupby('Species').size()"
      ]
    },
    {
      "cell_type": "code",
      "execution_count": 18,
      "metadata": {
        "colab": {
          "base_uri": "https://localhost:8080/"
        },
        "id": "WAZUePCPNjMM",
        "outputId": "a58f2339-ca7e-445d-8f9c-a774e2e4b592"
      },
      "outputs": [
        {
          "output_type": "execute_result",
          "data": {
            "text/plain": [
              "setosa        50\n",
              "versicolor    50\n",
              "virginica     50\n",
              "Name: Species, dtype: int64"
            ]
          },
          "metadata": {},
          "execution_count": 18
        }
      ],
      "source": [
        "iris.Species.value_counts()"
      ]
    },
    {
      "cell_type": "code",
      "execution_count": 19,
      "metadata": {
        "colab": {
          "base_uri": "https://localhost:8080/",
          "height": 206
        },
        "id": "qWLpcvEUNjMM",
        "outputId": "01d177a9-df7b-4e07-a992-3dce9f3aea30"
      },
      "outputs": [
        {
          "output_type": "execute_result",
          "data": {
            "text/plain": [
              "               sl                                sw                        \\\n",
              "             mean       std median  min  max   mean       std median  min   \n",
              "Species                                                                     \n",
              "setosa      5.006  0.352490    5.0  4.3  5.8  3.428  0.379064    3.4  2.3   \n",
              "versicolor  5.936  0.516171    5.9  4.9  7.0  2.770  0.313798    2.8  2.0   \n",
              "virginica   6.588  0.635880    6.5  4.9  7.9  2.974  0.322497    3.0  2.2   \n",
              "\n",
              "                    pl                                pw                   \\\n",
              "            max   mean       std median  min  max   mean       std median   \n",
              "Species                                                                     \n",
              "setosa      4.4  1.462  0.173664   1.50  1.0  1.9  0.246  0.105386    0.2   \n",
              "versicolor  3.4  4.260  0.469911   4.35  3.0  5.1  1.326  0.197753    1.3   \n",
              "virginica   3.8  5.552  0.551895   5.55  4.5  6.9  2.026  0.274650    2.0   \n",
              "\n",
              "                      \n",
              "            min  max  \n",
              "Species               \n",
              "setosa      0.1  0.6  \n",
              "versicolor  1.0  1.8  \n",
              "virginica   1.4  2.5  "
            ],
            "text/html": [
              "\n",
              "  <div id=\"df-316a5d13-5b5a-4a70-8dbf-bd34968979cc\" class=\"colab-df-container\">\n",
              "    <div>\n",
              "<style scoped>\n",
              "    .dataframe tbody tr th:only-of-type {\n",
              "        vertical-align: middle;\n",
              "    }\n",
              "\n",
              "    .dataframe tbody tr th {\n",
              "        vertical-align: top;\n",
              "    }\n",
              "\n",
              "    .dataframe thead tr th {\n",
              "        text-align: left;\n",
              "    }\n",
              "\n",
              "    .dataframe thead tr:last-of-type th {\n",
              "        text-align: right;\n",
              "    }\n",
              "</style>\n",
              "<table border=\"1\" class=\"dataframe\">\n",
              "  <thead>\n",
              "    <tr>\n",
              "      <th></th>\n",
              "      <th colspan=\"5\" halign=\"left\">sl</th>\n",
              "      <th colspan=\"5\" halign=\"left\">sw</th>\n",
              "      <th colspan=\"5\" halign=\"left\">pl</th>\n",
              "      <th colspan=\"5\" halign=\"left\">pw</th>\n",
              "    </tr>\n",
              "    <tr>\n",
              "      <th></th>\n",
              "      <th>mean</th>\n",
              "      <th>std</th>\n",
              "      <th>median</th>\n",
              "      <th>min</th>\n",
              "      <th>max</th>\n",
              "      <th>mean</th>\n",
              "      <th>std</th>\n",
              "      <th>median</th>\n",
              "      <th>min</th>\n",
              "      <th>max</th>\n",
              "      <th>mean</th>\n",
              "      <th>std</th>\n",
              "      <th>median</th>\n",
              "      <th>min</th>\n",
              "      <th>max</th>\n",
              "      <th>mean</th>\n",
              "      <th>std</th>\n",
              "      <th>median</th>\n",
              "      <th>min</th>\n",
              "      <th>max</th>\n",
              "    </tr>\n",
              "    <tr>\n",
              "      <th>Species</th>\n",
              "      <th></th>\n",
              "      <th></th>\n",
              "      <th></th>\n",
              "      <th></th>\n",
              "      <th></th>\n",
              "      <th></th>\n",
              "      <th></th>\n",
              "      <th></th>\n",
              "      <th></th>\n",
              "      <th></th>\n",
              "      <th></th>\n",
              "      <th></th>\n",
              "      <th></th>\n",
              "      <th></th>\n",
              "      <th></th>\n",
              "      <th></th>\n",
              "      <th></th>\n",
              "      <th></th>\n",
              "      <th></th>\n",
              "      <th></th>\n",
              "    </tr>\n",
              "  </thead>\n",
              "  <tbody>\n",
              "    <tr>\n",
              "      <th>setosa</th>\n",
              "      <td>5.006</td>\n",
              "      <td>0.352490</td>\n",
              "      <td>5.0</td>\n",
              "      <td>4.3</td>\n",
              "      <td>5.8</td>\n",
              "      <td>3.428</td>\n",
              "      <td>0.379064</td>\n",
              "      <td>3.4</td>\n",
              "      <td>2.3</td>\n",
              "      <td>4.4</td>\n",
              "      <td>1.462</td>\n",
              "      <td>0.173664</td>\n",
              "      <td>1.50</td>\n",
              "      <td>1.0</td>\n",
              "      <td>1.9</td>\n",
              "      <td>0.246</td>\n",
              "      <td>0.105386</td>\n",
              "      <td>0.2</td>\n",
              "      <td>0.1</td>\n",
              "      <td>0.6</td>\n",
              "    </tr>\n",
              "    <tr>\n",
              "      <th>versicolor</th>\n",
              "      <td>5.936</td>\n",
              "      <td>0.516171</td>\n",
              "      <td>5.9</td>\n",
              "      <td>4.9</td>\n",
              "      <td>7.0</td>\n",
              "      <td>2.770</td>\n",
              "      <td>0.313798</td>\n",
              "      <td>2.8</td>\n",
              "      <td>2.0</td>\n",
              "      <td>3.4</td>\n",
              "      <td>4.260</td>\n",
              "      <td>0.469911</td>\n",
              "      <td>4.35</td>\n",
              "      <td>3.0</td>\n",
              "      <td>5.1</td>\n",
              "      <td>1.326</td>\n",
              "      <td>0.197753</td>\n",
              "      <td>1.3</td>\n",
              "      <td>1.0</td>\n",
              "      <td>1.8</td>\n",
              "    </tr>\n",
              "    <tr>\n",
              "      <th>virginica</th>\n",
              "      <td>6.588</td>\n",
              "      <td>0.635880</td>\n",
              "      <td>6.5</td>\n",
              "      <td>4.9</td>\n",
              "      <td>7.9</td>\n",
              "      <td>2.974</td>\n",
              "      <td>0.322497</td>\n",
              "      <td>3.0</td>\n",
              "      <td>2.2</td>\n",
              "      <td>3.8</td>\n",
              "      <td>5.552</td>\n",
              "      <td>0.551895</td>\n",
              "      <td>5.55</td>\n",
              "      <td>4.5</td>\n",
              "      <td>6.9</td>\n",
              "      <td>2.026</td>\n",
              "      <td>0.274650</td>\n",
              "      <td>2.0</td>\n",
              "      <td>1.4</td>\n",
              "      <td>2.5</td>\n",
              "    </tr>\n",
              "  </tbody>\n",
              "</table>\n",
              "</div>\n",
              "    <div class=\"colab-df-buttons\">\n",
              "\n",
              "  <div class=\"colab-df-container\">\n",
              "    <button class=\"colab-df-convert\" onclick=\"convertToInteractive('df-316a5d13-5b5a-4a70-8dbf-bd34968979cc')\"\n",
              "            title=\"Convert this dataframe to an interactive table.\"\n",
              "            style=\"display:none;\">\n",
              "\n",
              "  <svg xmlns=\"http://www.w3.org/2000/svg\" height=\"24px\" viewBox=\"0 -960 960 960\">\n",
              "    <path d=\"M120-120v-720h720v720H120Zm60-500h600v-160H180v160Zm220 220h160v-160H400v160Zm0 220h160v-160H400v160ZM180-400h160v-160H180v160Zm440 0h160v-160H620v160ZM180-180h160v-160H180v160Zm440 0h160v-160H620v160Z\"/>\n",
              "  </svg>\n",
              "    </button>\n",
              "\n",
              "  <style>\n",
              "    .colab-df-container {\n",
              "      display:flex;\n",
              "      gap: 12px;\n",
              "    }\n",
              "\n",
              "    .colab-df-convert {\n",
              "      background-color: #E8F0FE;\n",
              "      border: none;\n",
              "      border-radius: 50%;\n",
              "      cursor: pointer;\n",
              "      display: none;\n",
              "      fill: #1967D2;\n",
              "      height: 32px;\n",
              "      padding: 0 0 0 0;\n",
              "      width: 32px;\n",
              "    }\n",
              "\n",
              "    .colab-df-convert:hover {\n",
              "      background-color: #E2EBFA;\n",
              "      box-shadow: 0px 1px 2px rgba(60, 64, 67, 0.3), 0px 1px 3px 1px rgba(60, 64, 67, 0.15);\n",
              "      fill: #174EA6;\n",
              "    }\n",
              "\n",
              "    .colab-df-buttons div {\n",
              "      margin-bottom: 4px;\n",
              "    }\n",
              "\n",
              "    [theme=dark] .colab-df-convert {\n",
              "      background-color: #3B4455;\n",
              "      fill: #D2E3FC;\n",
              "    }\n",
              "\n",
              "    [theme=dark] .colab-df-convert:hover {\n",
              "      background-color: #434B5C;\n",
              "      box-shadow: 0px 1px 3px 1px rgba(0, 0, 0, 0.15);\n",
              "      filter: drop-shadow(0px 1px 2px rgba(0, 0, 0, 0.3));\n",
              "      fill: #FFFFFF;\n",
              "    }\n",
              "  </style>\n",
              "\n",
              "    <script>\n",
              "      const buttonEl =\n",
              "        document.querySelector('#df-316a5d13-5b5a-4a70-8dbf-bd34968979cc button.colab-df-convert');\n",
              "      buttonEl.style.display =\n",
              "        google.colab.kernel.accessAllowed ? 'block' : 'none';\n",
              "\n",
              "      async function convertToInteractive(key) {\n",
              "        const element = document.querySelector('#df-316a5d13-5b5a-4a70-8dbf-bd34968979cc');\n",
              "        const dataTable =\n",
              "          await google.colab.kernel.invokeFunction('convertToInteractive',\n",
              "                                                    [key], {});\n",
              "        if (!dataTable) return;\n",
              "\n",
              "        const docLinkHtml = 'Like what you see? Visit the ' +\n",
              "          '<a target=\"_blank\" href=https://colab.research.google.com/notebooks/data_table.ipynb>data table notebook</a>'\n",
              "          + ' to learn more about interactive tables.';\n",
              "        element.innerHTML = '';\n",
              "        dataTable['output_type'] = 'display_data';\n",
              "        await google.colab.output.renderOutput(dataTable, element);\n",
              "        const docLink = document.createElement('div');\n",
              "        docLink.innerHTML = docLinkHtml;\n",
              "        element.appendChild(docLink);\n",
              "      }\n",
              "    </script>\n",
              "  </div>\n",
              "\n",
              "\n",
              "<div id=\"df-357e465e-3185-4a4f-aea4-0ab6b28ae1f2\">\n",
              "  <button class=\"colab-df-quickchart\" onclick=\"quickchart('df-357e465e-3185-4a4f-aea4-0ab6b28ae1f2')\"\n",
              "            title=\"Suggest charts.\"\n",
              "            style=\"display:none;\">\n",
              "\n",
              "<svg xmlns=\"http://www.w3.org/2000/svg\" height=\"24px\"viewBox=\"0 0 24 24\"\n",
              "     width=\"24px\">\n",
              "    <g>\n",
              "        <path d=\"M19 3H5c-1.1 0-2 .9-2 2v14c0 1.1.9 2 2 2h14c1.1 0 2-.9 2-2V5c0-1.1-.9-2-2-2zM9 17H7v-7h2v7zm4 0h-2V7h2v10zm4 0h-2v-4h2v4z\"/>\n",
              "    </g>\n",
              "</svg>\n",
              "  </button>\n",
              "\n",
              "<style>\n",
              "  .colab-df-quickchart {\n",
              "      --bg-color: #E8F0FE;\n",
              "      --fill-color: #1967D2;\n",
              "      --hover-bg-color: #E2EBFA;\n",
              "      --hover-fill-color: #174EA6;\n",
              "      --disabled-fill-color: #AAA;\n",
              "      --disabled-bg-color: #DDD;\n",
              "  }\n",
              "\n",
              "  [theme=dark] .colab-df-quickchart {\n",
              "      --bg-color: #3B4455;\n",
              "      --fill-color: #D2E3FC;\n",
              "      --hover-bg-color: #434B5C;\n",
              "      --hover-fill-color: #FFFFFF;\n",
              "      --disabled-bg-color: #3B4455;\n",
              "      --disabled-fill-color: #666;\n",
              "  }\n",
              "\n",
              "  .colab-df-quickchart {\n",
              "    background-color: var(--bg-color);\n",
              "    border: none;\n",
              "    border-radius: 50%;\n",
              "    cursor: pointer;\n",
              "    display: none;\n",
              "    fill: var(--fill-color);\n",
              "    height: 32px;\n",
              "    padding: 0;\n",
              "    width: 32px;\n",
              "  }\n",
              "\n",
              "  .colab-df-quickchart:hover {\n",
              "    background-color: var(--hover-bg-color);\n",
              "    box-shadow: 0 1px 2px rgba(60, 64, 67, 0.3), 0 1px 3px 1px rgba(60, 64, 67, 0.15);\n",
              "    fill: var(--button-hover-fill-color);\n",
              "  }\n",
              "\n",
              "  .colab-df-quickchart-complete:disabled,\n",
              "  .colab-df-quickchart-complete:disabled:hover {\n",
              "    background-color: var(--disabled-bg-color);\n",
              "    fill: var(--disabled-fill-color);\n",
              "    box-shadow: none;\n",
              "  }\n",
              "\n",
              "  .colab-df-spinner {\n",
              "    border: 2px solid var(--fill-color);\n",
              "    border-color: transparent;\n",
              "    border-bottom-color: var(--fill-color);\n",
              "    animation:\n",
              "      spin 1s steps(1) infinite;\n",
              "  }\n",
              "\n",
              "  @keyframes spin {\n",
              "    0% {\n",
              "      border-color: transparent;\n",
              "      border-bottom-color: var(--fill-color);\n",
              "      border-left-color: var(--fill-color);\n",
              "    }\n",
              "    20% {\n",
              "      border-color: transparent;\n",
              "      border-left-color: var(--fill-color);\n",
              "      border-top-color: var(--fill-color);\n",
              "    }\n",
              "    30% {\n",
              "      border-color: transparent;\n",
              "      border-left-color: var(--fill-color);\n",
              "      border-top-color: var(--fill-color);\n",
              "      border-right-color: var(--fill-color);\n",
              "    }\n",
              "    40% {\n",
              "      border-color: transparent;\n",
              "      border-right-color: var(--fill-color);\n",
              "      border-top-color: var(--fill-color);\n",
              "    }\n",
              "    60% {\n",
              "      border-color: transparent;\n",
              "      border-right-color: var(--fill-color);\n",
              "    }\n",
              "    80% {\n",
              "      border-color: transparent;\n",
              "      border-right-color: var(--fill-color);\n",
              "      border-bottom-color: var(--fill-color);\n",
              "    }\n",
              "    90% {\n",
              "      border-color: transparent;\n",
              "      border-bottom-color: var(--fill-color);\n",
              "    }\n",
              "  }\n",
              "</style>\n",
              "\n",
              "  <script>\n",
              "    async function quickchart(key) {\n",
              "      const quickchartButtonEl =\n",
              "        document.querySelector('#' + key + ' button');\n",
              "      quickchartButtonEl.disabled = true;  // To prevent multiple clicks.\n",
              "      quickchartButtonEl.classList.add('colab-df-spinner');\n",
              "      try {\n",
              "        const charts = await google.colab.kernel.invokeFunction(\n",
              "            'suggestCharts', [key], {});\n",
              "      } catch (error) {\n",
              "        console.error('Error during call to suggestCharts:', error);\n",
              "      }\n",
              "      quickchartButtonEl.classList.remove('colab-df-spinner');\n",
              "      quickchartButtonEl.classList.add('colab-df-quickchart-complete');\n",
              "    }\n",
              "    (() => {\n",
              "      let quickchartButtonEl =\n",
              "        document.querySelector('#df-357e465e-3185-4a4f-aea4-0ab6b28ae1f2 button');\n",
              "      quickchartButtonEl.style.display =\n",
              "        google.colab.kernel.accessAllowed ? 'block' : 'none';\n",
              "    })();\n",
              "  </script>\n",
              "</div>\n",
              "    </div>\n",
              "  </div>\n"
            ]
          },
          "metadata": {},
          "execution_count": 19
        }
      ],
      "source": [
        "iris.groupby('Species').agg(['mean', 'std', 'median', 'min', 'max'])"
      ]
    },
    {
      "cell_type": "code",
      "execution_count": 20,
      "metadata": {
        "colab": {
          "base_uri": "https://localhost:8080/",
          "height": 206
        },
        "id": "j6MeUqr9NjMN",
        "outputId": "0770aaf4-f626-438d-bb58-83760925b65f"
      },
      "outputs": [
        {
          "output_type": "execute_result",
          "data": {
            "text/plain": [
              "    sl   sw   pl   pw Species\n",
              "0  5.1  3.5  1.4  0.2  setosa\n",
              "1  4.9  3.0  1.4  0.2  setosa\n",
              "2  4.7  3.2  1.3  0.2  setosa\n",
              "3  4.6  3.1  1.5  0.2  setosa\n",
              "4  5.0  3.6  1.4  0.2  setosa"
            ],
            "text/html": [
              "\n",
              "  <div id=\"df-fc3a3fca-201f-4c3d-ac09-a97b97595cf1\" class=\"colab-df-container\">\n",
              "    <div>\n",
              "<style scoped>\n",
              "    .dataframe tbody tr th:only-of-type {\n",
              "        vertical-align: middle;\n",
              "    }\n",
              "\n",
              "    .dataframe tbody tr th {\n",
              "        vertical-align: top;\n",
              "    }\n",
              "\n",
              "    .dataframe thead th {\n",
              "        text-align: right;\n",
              "    }\n",
              "</style>\n",
              "<table border=\"1\" class=\"dataframe\">\n",
              "  <thead>\n",
              "    <tr style=\"text-align: right;\">\n",
              "      <th></th>\n",
              "      <th>sl</th>\n",
              "      <th>sw</th>\n",
              "      <th>pl</th>\n",
              "      <th>pw</th>\n",
              "      <th>Species</th>\n",
              "    </tr>\n",
              "  </thead>\n",
              "  <tbody>\n",
              "    <tr>\n",
              "      <th>0</th>\n",
              "      <td>5.1</td>\n",
              "      <td>3.5</td>\n",
              "      <td>1.4</td>\n",
              "      <td>0.2</td>\n",
              "      <td>setosa</td>\n",
              "    </tr>\n",
              "    <tr>\n",
              "      <th>1</th>\n",
              "      <td>4.9</td>\n",
              "      <td>3.0</td>\n",
              "      <td>1.4</td>\n",
              "      <td>0.2</td>\n",
              "      <td>setosa</td>\n",
              "    </tr>\n",
              "    <tr>\n",
              "      <th>2</th>\n",
              "      <td>4.7</td>\n",
              "      <td>3.2</td>\n",
              "      <td>1.3</td>\n",
              "      <td>0.2</td>\n",
              "      <td>setosa</td>\n",
              "    </tr>\n",
              "    <tr>\n",
              "      <th>3</th>\n",
              "      <td>4.6</td>\n",
              "      <td>3.1</td>\n",
              "      <td>1.5</td>\n",
              "      <td>0.2</td>\n",
              "      <td>setosa</td>\n",
              "    </tr>\n",
              "    <tr>\n",
              "      <th>4</th>\n",
              "      <td>5.0</td>\n",
              "      <td>3.6</td>\n",
              "      <td>1.4</td>\n",
              "      <td>0.2</td>\n",
              "      <td>setosa</td>\n",
              "    </tr>\n",
              "  </tbody>\n",
              "</table>\n",
              "</div>\n",
              "    <div class=\"colab-df-buttons\">\n",
              "\n",
              "  <div class=\"colab-df-container\">\n",
              "    <button class=\"colab-df-convert\" onclick=\"convertToInteractive('df-fc3a3fca-201f-4c3d-ac09-a97b97595cf1')\"\n",
              "            title=\"Convert this dataframe to an interactive table.\"\n",
              "            style=\"display:none;\">\n",
              "\n",
              "  <svg xmlns=\"http://www.w3.org/2000/svg\" height=\"24px\" viewBox=\"0 -960 960 960\">\n",
              "    <path d=\"M120-120v-720h720v720H120Zm60-500h600v-160H180v160Zm220 220h160v-160H400v160Zm0 220h160v-160H400v160ZM180-400h160v-160H180v160Zm440 0h160v-160H620v160ZM180-180h160v-160H180v160Zm440 0h160v-160H620v160Z\"/>\n",
              "  </svg>\n",
              "    </button>\n",
              "\n",
              "  <style>\n",
              "    .colab-df-container {\n",
              "      display:flex;\n",
              "      gap: 12px;\n",
              "    }\n",
              "\n",
              "    .colab-df-convert {\n",
              "      background-color: #E8F0FE;\n",
              "      border: none;\n",
              "      border-radius: 50%;\n",
              "      cursor: pointer;\n",
              "      display: none;\n",
              "      fill: #1967D2;\n",
              "      height: 32px;\n",
              "      padding: 0 0 0 0;\n",
              "      width: 32px;\n",
              "    }\n",
              "\n",
              "    .colab-df-convert:hover {\n",
              "      background-color: #E2EBFA;\n",
              "      box-shadow: 0px 1px 2px rgba(60, 64, 67, 0.3), 0px 1px 3px 1px rgba(60, 64, 67, 0.15);\n",
              "      fill: #174EA6;\n",
              "    }\n",
              "\n",
              "    .colab-df-buttons div {\n",
              "      margin-bottom: 4px;\n",
              "    }\n",
              "\n",
              "    [theme=dark] .colab-df-convert {\n",
              "      background-color: #3B4455;\n",
              "      fill: #D2E3FC;\n",
              "    }\n",
              "\n",
              "    [theme=dark] .colab-df-convert:hover {\n",
              "      background-color: #434B5C;\n",
              "      box-shadow: 0px 1px 3px 1px rgba(0, 0, 0, 0.15);\n",
              "      filter: drop-shadow(0px 1px 2px rgba(0, 0, 0, 0.3));\n",
              "      fill: #FFFFFF;\n",
              "    }\n",
              "  </style>\n",
              "\n",
              "    <script>\n",
              "      const buttonEl =\n",
              "        document.querySelector('#df-fc3a3fca-201f-4c3d-ac09-a97b97595cf1 button.colab-df-convert');\n",
              "      buttonEl.style.display =\n",
              "        google.colab.kernel.accessAllowed ? 'block' : 'none';\n",
              "\n",
              "      async function convertToInteractive(key) {\n",
              "        const element = document.querySelector('#df-fc3a3fca-201f-4c3d-ac09-a97b97595cf1');\n",
              "        const dataTable =\n",
              "          await google.colab.kernel.invokeFunction('convertToInteractive',\n",
              "                                                    [key], {});\n",
              "        if (!dataTable) return;\n",
              "\n",
              "        const docLinkHtml = 'Like what you see? Visit the ' +\n",
              "          '<a target=\"_blank\" href=https://colab.research.google.com/notebooks/data_table.ipynb>data table notebook</a>'\n",
              "          + ' to learn more about interactive tables.';\n",
              "        element.innerHTML = '';\n",
              "        dataTable['output_type'] = 'display_data';\n",
              "        await google.colab.output.renderOutput(dataTable, element);\n",
              "        const docLink = document.createElement('div');\n",
              "        docLink.innerHTML = docLinkHtml;\n",
              "        element.appendChild(docLink);\n",
              "      }\n",
              "    </script>\n",
              "  </div>\n",
              "\n",
              "\n",
              "<div id=\"df-6ed7044b-f0d4-46d9-93d7-4fba9bb54fa7\">\n",
              "  <button class=\"colab-df-quickchart\" onclick=\"quickchart('df-6ed7044b-f0d4-46d9-93d7-4fba9bb54fa7')\"\n",
              "            title=\"Suggest charts.\"\n",
              "            style=\"display:none;\">\n",
              "\n",
              "<svg xmlns=\"http://www.w3.org/2000/svg\" height=\"24px\"viewBox=\"0 0 24 24\"\n",
              "     width=\"24px\">\n",
              "    <g>\n",
              "        <path d=\"M19 3H5c-1.1 0-2 .9-2 2v14c0 1.1.9 2 2 2h14c1.1 0 2-.9 2-2V5c0-1.1-.9-2-2-2zM9 17H7v-7h2v7zm4 0h-2V7h2v10zm4 0h-2v-4h2v4z\"/>\n",
              "    </g>\n",
              "</svg>\n",
              "  </button>\n",
              "\n",
              "<style>\n",
              "  .colab-df-quickchart {\n",
              "      --bg-color: #E8F0FE;\n",
              "      --fill-color: #1967D2;\n",
              "      --hover-bg-color: #E2EBFA;\n",
              "      --hover-fill-color: #174EA6;\n",
              "      --disabled-fill-color: #AAA;\n",
              "      --disabled-bg-color: #DDD;\n",
              "  }\n",
              "\n",
              "  [theme=dark] .colab-df-quickchart {\n",
              "      --bg-color: #3B4455;\n",
              "      --fill-color: #D2E3FC;\n",
              "      --hover-bg-color: #434B5C;\n",
              "      --hover-fill-color: #FFFFFF;\n",
              "      --disabled-bg-color: #3B4455;\n",
              "      --disabled-fill-color: #666;\n",
              "  }\n",
              "\n",
              "  .colab-df-quickchart {\n",
              "    background-color: var(--bg-color);\n",
              "    border: none;\n",
              "    border-radius: 50%;\n",
              "    cursor: pointer;\n",
              "    display: none;\n",
              "    fill: var(--fill-color);\n",
              "    height: 32px;\n",
              "    padding: 0;\n",
              "    width: 32px;\n",
              "  }\n",
              "\n",
              "  .colab-df-quickchart:hover {\n",
              "    background-color: var(--hover-bg-color);\n",
              "    box-shadow: 0 1px 2px rgba(60, 64, 67, 0.3), 0 1px 3px 1px rgba(60, 64, 67, 0.15);\n",
              "    fill: var(--button-hover-fill-color);\n",
              "  }\n",
              "\n",
              "  .colab-df-quickchart-complete:disabled,\n",
              "  .colab-df-quickchart-complete:disabled:hover {\n",
              "    background-color: var(--disabled-bg-color);\n",
              "    fill: var(--disabled-fill-color);\n",
              "    box-shadow: none;\n",
              "  }\n",
              "\n",
              "  .colab-df-spinner {\n",
              "    border: 2px solid var(--fill-color);\n",
              "    border-color: transparent;\n",
              "    border-bottom-color: var(--fill-color);\n",
              "    animation:\n",
              "      spin 1s steps(1) infinite;\n",
              "  }\n",
              "\n",
              "  @keyframes spin {\n",
              "    0% {\n",
              "      border-color: transparent;\n",
              "      border-bottom-color: var(--fill-color);\n",
              "      border-left-color: var(--fill-color);\n",
              "    }\n",
              "    20% {\n",
              "      border-color: transparent;\n",
              "      border-left-color: var(--fill-color);\n",
              "      border-top-color: var(--fill-color);\n",
              "    }\n",
              "    30% {\n",
              "      border-color: transparent;\n",
              "      border-left-color: var(--fill-color);\n",
              "      border-top-color: var(--fill-color);\n",
              "      border-right-color: var(--fill-color);\n",
              "    }\n",
              "    40% {\n",
              "      border-color: transparent;\n",
              "      border-right-color: var(--fill-color);\n",
              "      border-top-color: var(--fill-color);\n",
              "    }\n",
              "    60% {\n",
              "      border-color: transparent;\n",
              "      border-right-color: var(--fill-color);\n",
              "    }\n",
              "    80% {\n",
              "      border-color: transparent;\n",
              "      border-right-color: var(--fill-color);\n",
              "      border-bottom-color: var(--fill-color);\n",
              "    }\n",
              "    90% {\n",
              "      border-color: transparent;\n",
              "      border-bottom-color: var(--fill-color);\n",
              "    }\n",
              "  }\n",
              "</style>\n",
              "\n",
              "  <script>\n",
              "    async function quickchart(key) {\n",
              "      const quickchartButtonEl =\n",
              "        document.querySelector('#' + key + ' button');\n",
              "      quickchartButtonEl.disabled = true;  // To prevent multiple clicks.\n",
              "      quickchartButtonEl.classList.add('colab-df-spinner');\n",
              "      try {\n",
              "        const charts = await google.colab.kernel.invokeFunction(\n",
              "            'suggestCharts', [key], {});\n",
              "      } catch (error) {\n",
              "        console.error('Error during call to suggestCharts:', error);\n",
              "      }\n",
              "      quickchartButtonEl.classList.remove('colab-df-spinner');\n",
              "      quickchartButtonEl.classList.add('colab-df-quickchart-complete');\n",
              "    }\n",
              "    (() => {\n",
              "      let quickchartButtonEl =\n",
              "        document.querySelector('#df-6ed7044b-f0d4-46d9-93d7-4fba9bb54fa7 button');\n",
              "      quickchartButtonEl.style.display =\n",
              "        google.colab.kernel.accessAllowed ? 'block' : 'none';\n",
              "    })();\n",
              "  </script>\n",
              "</div>\n",
              "    </div>\n",
              "  </div>\n"
            ]
          },
          "metadata": {},
          "execution_count": 20
        }
      ],
      "source": [
        "iris.head()"
      ]
    },
    {
      "cell_type": "code",
      "execution_count": 21,
      "metadata": {
        "colab": {
          "base_uri": "https://localhost:8080/",
          "height": 776
        },
        "id": "qu9x9G-HNjMN",
        "outputId": "b82ecfcc-18e7-4a3d-f714-2d8d67867c45"
      },
      "outputs": [
        {
          "output_type": "display_data",
          "data": {
            "text/plain": [
              "<Figure size 1100x900 with 4 Axes>"
            ],
            "image/png": "[encoded data removed]"
          },
          "metadata": {}
        }
      ],
      "source": [
        "fig, axes = plt.subplots(2,2, figsize=(11, 9), sharey=True)\n",
        "axes = axes.ravel()\n",
        "for i, ax in enumerate(axes):\n",
        "    iris.iloc[:, i].plot(kind='box', ax=ax)\n",
        "    ax.set_title(iris.columns[i])\n",
        "plt.show()"
      ]
    },
    {
      "cell_type": "code",
      "execution_count": 23,
      "metadata": {
        "colab": {
          "base_uri": "https://localhost:8080/",
          "height": 776
        },
        "id": "E1AaQr1gNjMf",
        "outputId": "1a2bd070-583f-4e95-ba27-d44cc18e4209"
      },
      "outputs": [
        {
          "output_type": "display_data",
          "data": {
            "text/plain": [
              "<Figure size 1100x900 with 4 Axes>"
            ],
            "image/png": "[encoded data removed]"
          },
          "metadata": {}
        }
      ],
      "source": [
        "fig, axes = plt.subplots(2,2, figsize=(11, 9), sharey=True)\n",
        "axes = axes.ravel()\n",
        "for i, ax in enumerate(axes):\n",
        "    iris.iloc[:, i].plot(kind='hist', ax=ax)\n",
        "    ax.set_title(iris.columns[i])\n",
        "plt.show()"
      ]
    },
    {
      "cell_type": "code",
      "execution_count": 24,
      "metadata": {
        "colab": {
          "base_uri": "https://localhost:8080/",
          "height": 798
        },
        "id": "oKJnL9ocNjMf",
        "outputId": "b3c4e297-aa42-4e3b-fc3c-50fd9658dbdb"
      },
      "outputs": [
        {
          "output_type": "stream",
          "name": "stderr",
          "text": [
            "<ipython-input-24-4669051da8cc>:1: FutureWarning: The default value of numeric_only in DataFrame.corr is deprecated. In a future version, it will default to False. Select only valid columns or specify the value of numeric_only to silence this warning.\n",
            "  corr = iris.corr()\n"
          ]
        },
        {
          "output_type": "display_data",
          "data": {
            "text/plain": [
              "<Figure size 1100x900 with 2 Axes>"
            ],
            "image/png": "[encoded data removed]"
          },
          "metadata": {}
        }
      ],
      "source": [
        "corr = iris.corr()\n",
        "cmap = sns.diverging_palette(220, 10, as_cmap=True)\n",
        "\n",
        "plt.figure(figsize=(11,9))\n",
        "sns.heatmap(corr, cmap=cmap, vmax=1.0, vmin=-1.0, center=0,\n",
        "           square=True, linewidths=.5, cbar_kws={'shrink':.5})\n",
        "plt.show()"
      ]
    },
    {
      "cell_type": "code",
      "execution_count": 25,
      "metadata": {
        "colab": {
          "base_uri": "https://localhost:8080/",
          "height": 175
        },
        "id": "bwrBHPbRNjMf",
        "outputId": "627b1077-5948-4e00-f576-02031e4909b8"
      },
      "outputs": [
        {
          "output_type": "execute_result",
          "data": {
            "text/plain": [
              "          sl        sw        pl        pw\n",
              "sl  1.000000 -0.117570  0.871754  0.817941\n",
              "sw -0.117570  1.000000 -0.428440 -0.366126\n",
              "pl  0.871754 -0.428440  1.000000  0.962865\n",
              "pw  0.817941 -0.366126  0.962865  1.000000"
            ],
            "text/html": [
              "\n",
              "  <div id=\"df-43910a3a-7381-4628-a1dd-0889081f3782\" class=\"colab-df-container\">\n",
              "    <div>\n",
              "<style scoped>\n",
              "    .dataframe tbody tr th:only-of-type {\n",
              "        vertical-align: middle;\n",
              "    }\n",
              "\n",
              "    .dataframe tbody tr th {\n",
              "        vertical-align: top;\n",
              "    }\n",
              "\n",
              "    .dataframe thead th {\n",
              "        text-align: right;\n",
              "    }\n",
              "</style>\n",
              "<table border=\"1\" class=\"dataframe\">\n",
              "  <thead>\n",
              "    <tr style=\"text-align: right;\">\n",
              "      <th></th>\n",
              "      <th>sl</th>\n",
              "      <th>sw</th>\n",
              "      <th>pl</th>\n",
              "      <th>pw</th>\n",
              "    </tr>\n",
              "  </thead>\n",
              "  <tbody>\n",
              "    <tr>\n",
              "      <th>sl</th>\n",
              "      <td>1.000000</td>\n",
              "      <td>-0.117570</td>\n",
              "      <td>0.871754</td>\n",
              "      <td>0.817941</td>\n",
              "    </tr>\n",
              "    <tr>\n",
              "      <th>sw</th>\n",
              "      <td>-0.117570</td>\n",
              "      <td>1.000000</td>\n",
              "      <td>-0.428440</td>\n",
              "      <td>-0.366126</td>\n",
              "    </tr>\n",
              "    <tr>\n",
              "      <th>pl</th>\n",
              "      <td>0.871754</td>\n",
              "      <td>-0.428440</td>\n",
              "      <td>1.000000</td>\n",
              "      <td>0.962865</td>\n",
              "    </tr>\n",
              "    <tr>\n",
              "      <th>pw</th>\n",
              "      <td>0.817941</td>\n",
              "      <td>-0.366126</td>\n",
              "      <td>0.962865</td>\n",
              "      <td>1.000000</td>\n",
              "    </tr>\n",
              "  </tbody>\n",
              "</table>\n",
              "</div>\n",
              "    <div class=\"colab-df-buttons\">\n",
              "\n",
              "  <div class=\"colab-df-container\">\n",
              "    <button class=\"colab-df-convert\" onclick=\"convertToInteractive('df-43910a3a-7381-4628-a1dd-0889081f3782')\"\n",
              "            title=\"Convert this dataframe to an interactive table.\"\n",
              "            style=\"display:none;\">\n",
              "\n",
              "  <svg xmlns=\"http://www.w3.org/2000/svg\" height=\"24px\" viewBox=\"0 -960 960 960\">\n",
              "    <path d=\"M120-120v-720h720v720H120Zm60-500h600v-160H180v160Zm220 220h160v-160H400v160Zm0 220h160v-160H400v160ZM180-400h160v-160H180v160Zm440 0h160v-160H620v160ZM180-180h160v-160H180v160Zm440 0h160v-160H620v160Z\"/>\n",
              "  </svg>\n",
              "    </button>\n",
              "\n",
              "  <style>\n",
              "    .colab-df-container {\n",
              "      display:flex;\n",
              "      gap: 12px;\n",
              "    }\n",
              "\n",
              "    .colab-df-convert {\n",
              "      background-color: #E8F0FE;\n",
              "      border: none;\n",
              "      border-radius: 50%;\n",
              "      cursor: pointer;\n",
              "      display: none;\n",
              "      fill: #1967D2;\n",
              "      height: 32px;\n",
              "      padding: 0 0 0 0;\n",
              "      width: 32px;\n",
              "    }\n",
              "\n",
              "    .colab-df-convert:hover {\n",
              "      background-color: #E2EBFA;\n",
              "      box-shadow: 0px 1px 2px rgba(60, 64, 67, 0.3), 0px 1px 3px 1px rgba(60, 64, 67, 0.15);\n",
              "      fill: #174EA6;\n",
              "    }\n",
              "\n",
              "    .colab-df-buttons div {\n",
              "      margin-bottom: 4px;\n",
              "    }\n",
              "\n",
              "    [theme=dark] .colab-df-convert {\n",
              "      background-color: #3B4455;\n",
              "      fill: #D2E3FC;\n",
              "    }\n",
              "\n",
              "    [theme=dark] .colab-df-convert:hover {\n",
              "      background-color: #434B5C;\n",
              "      box-shadow: 0px 1px 3px 1px rgba(0, 0, 0, 0.15);\n",
              "      filter: drop-shadow(0px 1px 2px rgba(0, 0, 0, 0.3));\n",
              "      fill: #FFFFFF;\n",
              "    }\n",
              "  </style>\n",
              "\n",
              "    <script>\n",
              "      const buttonEl =\n",
              "        document.querySelector('#df-43910a3a-7381-4628-a1dd-0889081f3782 button.colab-df-convert');\n",
              "      buttonEl.style.display =\n",
              "        google.colab.kernel.accessAllowed ? 'block' : 'none';\n",
              "\n",
              "      async function convertToInteractive(key) {\n",
              "        const element = document.querySelector('#df-43910a3a-7381-4628-a1dd-0889081f3782');\n",
              "        const dataTable =\n",
              "          await google.colab.kernel.invokeFunction('convertToInteractive',\n",
              "                                                    [key], {});\n",
              "        if (!dataTable) return;\n",
              "\n",
              "        const docLinkHtml = 'Like what you see? Visit the ' +\n",
              "          '<a target=\"_blank\" href=https://colab.research.google.com/notebooks/data_table.ipynb>data table notebook</a>'\n",
              "          + ' to learn more about interactive tables.';\n",
              "        element.innerHTML = '';\n",
              "        dataTable['output_type'] = 'display_data';\n",
              "        await google.colab.output.renderOutput(dataTable, element);\n",
              "        const docLink = document.createElement('div');\n",
              "        docLink.innerHTML = docLinkHtml;\n",
              "        element.appendChild(docLink);\n",
              "      }\n",
              "    </script>\n",
              "  </div>\n",
              "\n",
              "\n",
              "<div id=\"df-e4d1b4d1-88aa-4941-b943-0d79e6308cc1\">\n",
              "  <button class=\"colab-df-quickchart\" onclick=\"quickchart('df-e4d1b4d1-88aa-4941-b943-0d79e6308cc1')\"\n",
              "            title=\"Suggest charts.\"\n",
              "            style=\"display:none;\">\n",
              "\n",
              "<svg xmlns=\"http://www.w3.org/2000/svg\" height=\"24px\"viewBox=\"0 0 24 24\"\n",
              "     width=\"24px\">\n",
              "    <g>\n",
              "        <path d=\"M19 3H5c-1.1 0-2 .9-2 2v14c0 1.1.9 2 2 2h14c1.1 0 2-.9 2-2V5c0-1.1-.9-2-2-2zM9 17H7v-7h2v7zm4 0h-2V7h2v10zm4 0h-2v-4h2v4z\"/>\n",
              "    </g>\n",
              "</svg>\n",
              "  </button>\n",
              "\n",
              "<style>\n",
              "  .colab-df-quickchart {\n",
              "      --bg-color: #E8F0FE;\n",
              "      --fill-color: #1967D2;\n",
              "      --hover-bg-color: #E2EBFA;\n",
              "      --hover-fill-color: #174EA6;\n",
              "      --disabled-fill-color: #AAA;\n",
              "      --disabled-bg-color: #DDD;\n",
              "  }\n",
              "\n",
              "  [theme=dark] .colab-df-quickchart {\n",
              "      --bg-color: #3B4455;\n",
              "      --fill-color: #D2E3FC;\n",
              "      --hover-bg-color: #434B5C;\n",
              "      --hover-fill-color: #FFFFFF;\n",
              "      --disabled-bg-color: #3B4455;\n",
              "      --disabled-fill-color: #666;\n",
              "  }\n",
              "\n",
              "  .colab-df-quickchart {\n",
              "    background-color: var(--bg-color);\n",
              "    border: none;\n",
              "    border-radius: 50%;\n",
              "    cursor: pointer;\n",
              "    display: none;\n",
              "    fill: var(--fill-color);\n",
              "    height: 32px;\n",
              "    padding: 0;\n",
              "    width: 32px;\n",
              "  }\n",
              "\n",
              "  .colab-df-quickchart:hover {\n",
              "    background-color: var(--hover-bg-color);\n",
              "    box-shadow: 0 1px 2px rgba(60, 64, 67, 0.3), 0 1px 3px 1px rgba(60, 64, 67, 0.15);\n",
              "    fill: var(--button-hover-fill-color);\n",
              "  }\n",
              "\n",
              "  .colab-df-quickchart-complete:disabled,\n",
              "  .colab-df-quickchart-complete:disabled:hover {\n",
              "    background-color: var(--disabled-bg-color);\n",
              "    fill: var(--disabled-fill-color);\n",
              "    box-shadow: none;\n",
              "  }\n",
              "\n",
              "  .colab-df-spinner {\n",
              "    border: 2px solid var(--fill-color);\n",
              "    border-color: transparent;\n",
              "    border-bottom-color: var(--fill-color);\n",
              "    animation:\n",
              "      spin 1s steps(1) infinite;\n",
              "  }\n",
              "\n",
              "  @keyframes spin {\n",
              "    0% {\n",
              "      border-color: transparent;\n",
              "      border-bottom-color: var(--fill-color);\n",
              "      border-left-color: var(--fill-color);\n",
              "    }\n",
              "    20% {\n",
              "      border-color: transparent;\n",
              "      border-left-color: var(--fill-color);\n",
              "      border-top-color: var(--fill-color);\n",
              "    }\n",
              "    30% {\n",
              "      border-color: transparent;\n",
              "      border-left-color: var(--fill-color);\n",
              "      border-top-color: var(--fill-color);\n",
              "      border-right-color: var(--fill-color);\n",
              "    }\n",
              "    40% {\n",
              "      border-color: transparent;\n",
              "      border-right-color: var(--fill-color);\n",
              "      border-top-color: var(--fill-color);\n",
              "    }\n",
              "    60% {\n",
              "      border-color: transparent;\n",
              "      border-right-color: var(--fill-color);\n",
              "    }\n",
              "    80% {\n",
              "      border-color: transparent;\n",
              "      border-right-color: var(--fill-color);\n",
              "      border-bottom-color: var(--fill-color);\n",
              "    }\n",
              "    90% {\n",
              "      border-color: transparent;\n",
              "      border-bottom-color: var(--fill-color);\n",
              "    }\n",
              "  }\n",
              "</style>\n",
              "\n",
              "  <script>\n",
              "    async function quickchart(key) {\n",
              "      const quickchartButtonEl =\n",
              "        document.querySelector('#' + key + ' button');\n",
              "      quickchartButtonEl.disabled = true;  // To prevent multiple clicks.\n",
              "      quickchartButtonEl.classList.add('colab-df-spinner');\n",
              "      try {\n",
              "        const charts = await google.colab.kernel.invokeFunction(\n",
              "            'suggestCharts', [key], {});\n",
              "      } catch (error) {\n",
              "        console.error('Error during call to suggestCharts:', error);\n",
              "      }\n",
              "      quickchartButtonEl.classList.remove('colab-df-spinner');\n",
              "      quickchartButtonEl.classList.add('colab-df-quickchart-complete');\n",
              "    }\n",
              "    (() => {\n",
              "      let quickchartButtonEl =\n",
              "        document.querySelector('#df-e4d1b4d1-88aa-4941-b943-0d79e6308cc1 button');\n",
              "      quickchartButtonEl.style.display =\n",
              "        google.colab.kernel.accessAllowed ? 'block' : 'none';\n",
              "    })();\n",
              "  </script>\n",
              "</div>\n",
              "    </div>\n",
              "  </div>\n"
            ]
          },
          "metadata": {},
          "execution_count": 25
        }
      ],
      "source": [
        "corr"
      ]
    },
    {
      "cell_type": "code",
      "execution_count": 26,
      "metadata": {
        "scrolled": true,
        "colab": {
          "base_uri": "https://localhost:8080/",
          "height": 1000
        },
        "id": "LkWxd8GcNjMf",
        "outputId": "e5d5a1e8-b1d6-4b1e-82a8-dba618651110"
      },
      "outputs": [
        {
          "output_type": "display_data",
          "data": {
            "text/plain": [
              "<Figure size 1117.75x1000 with 20 Axes>"
            ],
            "image/png": "[encoded data removed]"
          },
          "metadata": {}
        }
      ],
      "source": [
        "sns.pairplot(iris, hue='Species')\n",
        "plt.show()"
      ]
    },
    {
      "cell_type": "code",
      "execution_count": 28,
      "metadata": {
        "colab": {
          "base_uri": "https://localhost:8080/"
        },
        "id": "Oau0C7PWNjMg",
        "outputId": "8c5aff43-6137-49fb-c327-b797eb8fc76c"
      },
      "outputs": [
        {
          "output_type": "execute_result",
          "data": {
            "text/plain": [
              "Index(['setosa', 'versicolor', 'virginica'], dtype='object', name='Species')"
            ]
          },
          "metadata": {},
          "execution_count": 28
        }
      ],
      "source": [
        "iris.groupby('Species').size().keys()"
      ]
    },
    {
      "cell_type": "code",
      "execution_count": 29,
      "metadata": {
        "colab": {
          "base_uri": "https://localhost:8080/"
        },
        "id": "ntdLwVLdNjMg",
        "outputId": "6d8f0138-a035-4665-816d-3a9050363275"
      },
      "outputs": [
        {
          "output_type": "execute_result",
          "data": {
            "text/plain": [
              "50"
            ]
          },
          "metadata": {},
          "execution_count": 29
        }
      ],
      "source": [
        "iris.groupby('Species').size()['setosa']"
      ]
    },
    {
      "cell_type": "code",
      "execution_count": 30,
      "metadata": {
        "id": "17gEKGwINjMg"
      },
      "outputs": [],
      "source": [
        "from sklearn.model_selection import train_test_split\n",
        "\n",
        "X_train, X_test, y_train, y_test = train_test_split(\n",
        "    iris.iloc[:, :-1], iris.iloc[:, -1], test_size=0.2, random_state=1\n",
        ")"
      ]
    },
    {
      "cell_type": "code",
      "execution_count": 31,
      "metadata": {
        "id": "cOaULes4NjMh"
      },
      "outputs": [],
      "source": [
        "from sklearn.tree import DecisionTreeClassifier\n",
        "model = DecisionTreeClassifier(random_state=42)"
      ]
    },
    {
      "cell_type": "code",
      "execution_count": 32,
      "metadata": {
        "colab": {
          "base_uri": "https://localhost:8080/"
        },
        "id": "YX5ilwmcNjMh",
        "outputId": "aaacab78-d59a-446f-bfa6-9aaaa4d5aec9"
      },
      "outputs": [
        {
          "output_type": "execute_result",
          "data": {
            "text/plain": [
              "0.9666666666666667"
            ]
          },
          "metadata": {},
          "execution_count": 32
        }
      ],
      "source": [
        "model.fit(X_train, y_train)\n",
        "model.score(X_test, y_test)"
      ]
    },
    {
      "cell_type": "code",
      "execution_count": 33,
      "metadata": {
        "colab": {
          "base_uri": "https://localhost:8080/"
        },
        "id": "W3a3pndnNjMi",
        "outputId": "03312c37-580b-4318-cd59-3c50c211d998"
      },
      "outputs": [
        {
          "output_type": "stream",
          "name": "stdout",
          "text": [
            "0번째 교차검증 정확도: 0.9166666666666666\n",
            "1번째 교차검증 정확도: 0.9166666666666666\n",
            "2번째 교차검증 정확도: 0.9166666666666666\n",
            "3번째 교차검증 정확도: 1.0\n",
            "4번째 교차검증 정확도: 0.9166666666666666\n",
            "5번째 교차검증 정확도: 0.9166666666666666\n",
            "6번째 교차검증 정확도: 0.9166666666666666\n",
            "7번째 교차검증 정확도: 1.0\n",
            "8번째 교차검증 정확도: 1.0\n",
            "9번째 교차검증 정확도: 1.0\n",
            "\n",
            "교차검증 최종 정확도: 0.95\n"
          ]
        }
      ],
      "source": [
        "#KFold\n",
        "from sklearn.model_selection import cross_val_score, KFold\n",
        "\n",
        "cv = KFold(n_splits=10, shuffle=True, random_state=42)\n",
        "results =cross_val_score(model, X_train, y_train, cv=cv)\n",
        "fin_result = results.mean()\n",
        "\n",
        "for i, r in enumerate(results):\n",
        "    print(f\"{i}번째 교차검증 정확도: {r}\")\n",
        "\n",
        "print(f\"\\n교차검증 최종 정확도: {fin_result}\")"
      ]
    },
    {
      "cell_type": "code",
      "execution_count": 34,
      "metadata": {
        "colab": {
          "base_uri": "https://localhost:8080/"
        },
        "id": "5zyeoRS-NjMj",
        "outputId": "a9774acd-f578-450d-c90b-3e4b141cae5a"
      },
      "outputs": [
        {
          "output_type": "stream",
          "name": "stdout",
          "text": [
            "0번째 교차검증 정확도: 0.9166666666666666\n",
            "1번째 교차검증 정확도: 1.0\n",
            "2번째 교차검증 정확도: 0.9166666666666666\n",
            "3번째 교차검증 정확도: 0.9166666666666666\n",
            "4번째 교차검증 정확도: 0.9166666666666666\n",
            "5번째 교차검증 정확도: 1.0\n",
            "6번째 교차검증 정확도: 1.0\n",
            "7번째 교차검증 정확도: 0.9166666666666666\n",
            "8번째 교차검증 정확도: 0.9166666666666666\n",
            "9번째 교차검증 정확도: 1.0\n",
            "\n",
            "교차검증 최종 정확도: 0.95\n"
          ]
        }
      ],
      "source": [
        "from sklearn.model_selection import StratifiedKFold\n",
        "\n",
        "cv = StratifiedKFold(n_splits=10, shuffle=True, random_state=42)\n",
        "results =cross_val_score(model, X_train, y_train, cv=cv)\n",
        "fin_result = results.mean()\n",
        "\n",
        "for i, r in enumerate(results):\n",
        "    print(f\"{i}번째 교차검증 정확도: {r}\")\n",
        "\n",
        "print(f\"\\n교차검증 최종 정확도: {fin_result}\")"
      ]
    },
    {
      "cell_type": "code",
      "execution_count": 35,
      "metadata": {
        "colab": {
          "base_uri": "https://localhost:8080/"
        },
        "id": "o61oY-KeNjMk",
        "outputId": "489fac79-eea0-482f-940b-703a6e59a48a"
      },
      "outputs": [
        {
          "output_type": "stream",
          "name": "stdout",
          "text": [
            "current val score is 0.9666666666666666 at md=3, msl=2, mln=7\n",
            "current best val score is 0.9666666666666666 at md=3, msl=2, mln=7\n",
            "current val score is 0.9666666666666666 at md=3, msl=2, mln=8\n",
            "current val score is 0.9666666666666666 at md=3, msl=2, mln=9\n",
            "current val score is 0.9666666666666666 at md=3, msl=2, mln=10\n",
            "current val score is 0.9666666666666666 at md=3, msl=2, mln=11\n",
            "current val score is 0.9666666666666666 at md=3, msl=3, mln=7\n",
            "current val score is 0.9666666666666666 at md=3, msl=3, mln=8\n",
            "current val score is 0.9666666666666666 at md=3, msl=3, mln=9\n",
            "current val score is 0.9666666666666666 at md=3, msl=3, mln=10\n",
            "current val score is 0.9666666666666666 at md=3, msl=3, mln=11\n",
            "current val score is 0.9666666666666666 at md=3, msl=4, mln=7\n",
            "current val score is 0.9666666666666666 at md=3, msl=4, mln=8\n",
            "current val score is 0.9666666666666666 at md=3, msl=4, mln=9\n",
            "current val score is 0.9666666666666666 at md=3, msl=4, mln=10\n",
            "current val score is 0.9666666666666666 at md=3, msl=4, mln=11\n",
            "current val score is 0.9416666666666667 at md=3, msl=5, mln=7\n",
            "current val score is 0.9416666666666667 at md=3, msl=5, mln=8\n",
            "current val score is 0.9416666666666667 at md=3, msl=5, mln=9\n",
            "current val score is 0.9416666666666667 at md=3, msl=5, mln=10\n",
            "current val score is 0.9416666666666667 at md=3, msl=5, mln=11\n",
            "current val score is 0.9249999999999998 at md=3, msl=6, mln=7\n",
            "current val score is 0.9249999999999998 at md=3, msl=6, mln=8\n",
            "current val score is 0.9249999999999998 at md=3, msl=6, mln=9\n",
            "current val score is 0.9249999999999998 at md=3, msl=6, mln=10\n",
            "current val score is 0.9249999999999998 at md=3, msl=6, mln=11\n",
            "current val score is 0.9249999999999998 at md=3, msl=7, mln=7\n",
            "current val score is 0.9249999999999998 at md=3, msl=7, mln=8\n",
            "current val score is 0.9249999999999998 at md=3, msl=7, mln=9\n",
            "current val score is 0.9249999999999998 at md=3, msl=7, mln=10\n",
            "current val score is 0.9249999999999998 at md=3, msl=7, mln=11\n",
            "current val score is 0.9333333333333332 at md=3, msl=8, mln=7\n",
            "current val score is 0.9333333333333332 at md=3, msl=8, mln=8\n",
            "current val score is 0.9333333333333332 at md=3, msl=8, mln=9\n",
            "current val score is 0.9333333333333332 at md=3, msl=8, mln=10\n",
            "current val score is 0.9333333333333332 at md=3, msl=8, mln=11\n",
            "current val score is 0.9333333333333332 at md=3, msl=9, mln=7\n",
            "current val score is 0.9333333333333332 at md=3, msl=9, mln=8\n",
            "current val score is 0.9333333333333332 at md=3, msl=9, mln=9\n",
            "current val score is 0.9333333333333332 at md=3, msl=9, mln=10\n",
            "current val score is 0.9333333333333332 at md=3, msl=9, mln=11\n",
            "current val score is 0.9333333333333332 at md=3, msl=10, mln=7\n",
            "current val score is 0.9333333333333332 at md=3, msl=10, mln=8\n",
            "current val score is 0.9333333333333332 at md=3, msl=10, mln=9\n",
            "current val score is 0.9333333333333332 at md=3, msl=10, mln=10\n",
            "current val score is 0.9333333333333332 at md=3, msl=10, mln=11\n",
            "current val score is 0.95 at md=4, msl=2, mln=7\n",
            "current val score is 0.9416666666666667 at md=4, msl=2, mln=8\n",
            "current val score is 0.9583333333333333 at md=4, msl=2, mln=9\n",
            "current val score is 0.95 at md=4, msl=2, mln=10\n",
            "current val score is 0.9416666666666667 at md=4, msl=2, mln=11\n",
            "current val score is 0.9666666666666666 at md=4, msl=3, mln=7\n",
            "current val score is 0.9666666666666666 at md=4, msl=3, mln=8\n",
            "current val score is 0.9666666666666666 at md=4, msl=3, mln=9\n",
            "current val score is 0.9666666666666666 at md=4, msl=3, mln=10\n",
            "current val score is 0.9666666666666666 at md=4, msl=3, mln=11\n",
            "current val score is 0.9666666666666666 at md=4, msl=4, mln=7\n",
            "current val score is 0.9666666666666666 at md=4, msl=4, mln=8\n",
            "current val score is 0.9666666666666666 at md=4, msl=4, mln=9\n",
            "current val score is 0.9666666666666666 at md=4, msl=4, mln=10\n",
            "current val score is 0.9666666666666666 at md=4, msl=4, mln=11\n",
            "current val score is 0.9416666666666667 at md=4, msl=5, mln=7\n",
            "current val score is 0.9416666666666667 at md=4, msl=5, mln=8\n",
            "current val score is 0.9416666666666667 at md=4, msl=5, mln=9\n",
            "current val score is 0.9416666666666667 at md=4, msl=5, mln=10\n",
            "current val score is 0.9416666666666667 at md=4, msl=5, mln=11\n",
            "current val score is 0.9249999999999998 at md=4, msl=6, mln=7\n",
            "current val score is 0.9249999999999998 at md=4, msl=6, mln=8\n",
            "current val score is 0.9249999999999998 at md=4, msl=6, mln=9\n",
            "current val score is 0.9249999999999998 at md=4, msl=6, mln=10\n",
            "current val score is 0.9249999999999998 at md=4, msl=6, mln=11\n",
            "current val score is 0.9249999999999998 at md=4, msl=7, mln=7\n",
            "current val score is 0.9249999999999998 at md=4, msl=7, mln=8\n",
            "current val score is 0.9249999999999998 at md=4, msl=7, mln=9\n",
            "current val score is 0.9249999999999998 at md=4, msl=7, mln=10\n",
            "current val score is 0.9249999999999998 at md=4, msl=7, mln=11\n",
            "current val score is 0.9333333333333332 at md=4, msl=8, mln=7\n",
            "current val score is 0.9333333333333332 at md=4, msl=8, mln=8\n",
            "current val score is 0.9333333333333332 at md=4, msl=8, mln=9\n",
            "current val score is 0.9333333333333332 at md=4, msl=8, mln=10\n",
            "current val score is 0.9333333333333332 at md=4, msl=8, mln=11\n",
            "current val score is 0.9333333333333332 at md=4, msl=9, mln=7\n",
            "current val score is 0.9333333333333332 at md=4, msl=9, mln=8\n",
            "current val score is 0.9333333333333332 at md=4, msl=9, mln=9\n",
            "current val score is 0.9333333333333332 at md=4, msl=9, mln=10\n",
            "current val score is 0.9333333333333332 at md=4, msl=9, mln=11\n",
            "current val score is 0.9333333333333332 at md=4, msl=10, mln=7\n",
            "current val score is 0.9333333333333332 at md=4, msl=10, mln=8\n",
            "current val score is 0.9333333333333332 at md=4, msl=10, mln=9\n",
            "current val score is 0.9333333333333332 at md=4, msl=10, mln=10\n",
            "current val score is 0.9333333333333332 at md=4, msl=10, mln=11\n",
            "current val score is 0.9583333333333333 at md=5, msl=2, mln=7\n",
            "current val score is 0.9583333333333333 at md=5, msl=2, mln=8\n",
            "current val score is 0.9583333333333333 at md=5, msl=2, mln=9\n",
            "current val score is 0.95 at md=5, msl=2, mln=10\n",
            "current val score is 0.95 at md=5, msl=2, mln=11\n",
            "current val score is 0.9666666666666666 at md=5, msl=3, mln=7\n",
            "current val score is 0.9666666666666666 at md=5, msl=3, mln=8\n",
            "current val score is 0.9666666666666666 at md=5, msl=3, mln=9\n",
            "current val score is 0.9666666666666666 at md=5, msl=3, mln=10\n",
            "current val score is 0.9666666666666666 at md=5, msl=3, mln=11\n",
            "current val score is 0.9666666666666666 at md=5, msl=4, mln=7\n",
            "current val score is 0.9666666666666666 at md=5, msl=4, mln=8\n",
            "current val score is 0.9666666666666666 at md=5, msl=4, mln=9\n",
            "current val score is 0.9666666666666666 at md=5, msl=4, mln=10\n",
            "current val score is 0.9666666666666666 at md=5, msl=4, mln=11\n",
            "current val score is 0.9416666666666667 at md=5, msl=5, mln=7\n",
            "current val score is 0.9416666666666667 at md=5, msl=5, mln=8\n",
            "current val score is 0.9416666666666667 at md=5, msl=5, mln=9\n",
            "current val score is 0.9416666666666667 at md=5, msl=5, mln=10\n",
            "current val score is 0.9416666666666667 at md=5, msl=5, mln=11\n",
            "current val score is 0.9249999999999998 at md=5, msl=6, mln=7\n",
            "current val score is 0.9249999999999998 at md=5, msl=6, mln=8\n",
            "current val score is 0.9249999999999998 at md=5, msl=6, mln=9\n",
            "current val score is 0.9249999999999998 at md=5, msl=6, mln=10\n",
            "current val score is 0.9249999999999998 at md=5, msl=6, mln=11\n",
            "current val score is 0.9249999999999998 at md=5, msl=7, mln=7\n",
            "current val score is 0.9249999999999998 at md=5, msl=7, mln=8\n",
            "current val score is 0.9249999999999998 at md=5, msl=7, mln=9\n",
            "current val score is 0.9249999999999998 at md=5, msl=7, mln=10\n",
            "current val score is 0.9249999999999998 at md=5, msl=7, mln=11\n",
            "current val score is 0.9333333333333332 at md=5, msl=8, mln=7\n",
            "current val score is 0.9333333333333332 at md=5, msl=8, mln=8\n",
            "current val score is 0.9333333333333332 at md=5, msl=8, mln=9\n",
            "current val score is 0.9333333333333332 at md=5, msl=8, mln=10\n",
            "current val score is 0.9333333333333332 at md=5, msl=8, mln=11\n",
            "current val score is 0.9333333333333332 at md=5, msl=9, mln=7\n",
            "current val score is 0.9333333333333332 at md=5, msl=9, mln=8\n",
            "current val score is 0.9333333333333332 at md=5, msl=9, mln=9\n",
            "current val score is 0.9333333333333332 at md=5, msl=9, mln=10\n",
            "current val score is 0.9333333333333332 at md=5, msl=9, mln=11\n",
            "current val score is 0.9333333333333332 at md=5, msl=10, mln=7\n",
            "current val score is 0.9333333333333332 at md=5, msl=10, mln=8\n",
            "current val score is 0.9333333333333332 at md=5, msl=10, mln=9\n",
            "current val score is 0.9333333333333332 at md=5, msl=10, mln=10\n",
            "current val score is 0.9333333333333332 at md=5, msl=10, mln=11\n",
            "\n",
            "\n",
            " best val score is 0.9666666666666666 at md=3, msl=2, mln=7\n",
            "real Test score is 0.9666666666666667\n"
          ]
        }
      ],
      "source": [
        "best= {}\n",
        "best['score'] = 0\n",
        "mds = [3,4,5]\n",
        "msls = range(2, 11)\n",
        "mlns = range(7, 12)\n",
        "\n",
        "cv = KFold(n_splits=10, shuffle=True, random_state=42)\n",
        "\n",
        "for md in mds:\n",
        "    for msl in msls:\n",
        "        for mln in mlns:\n",
        "            m = DecisionTreeClassifier(criterion='entropy', max_depth=md,\n",
        "                                       min_samples_leaf=msl, max_leaf_nodes=mln)\n",
        "            results = cross_val_score(m, X_train, y_train, cv=cv)\n",
        "            score = results.mean()\n",
        "            print(f\"current val score is {score} at md={md}, msl={msl}, mln={mln}\")\n",
        "            if score > best['score']:\n",
        "                print(f\"current best val score is {score} at md={md}, msl={msl}, mln={mln}\")\n",
        "                best['score'], best['md'], best['msl'], best['mln'], best['model'] = score, md, msl, mln, m\n",
        "\n",
        "print(f\"\\n\\n best val score is {best['score']} at md={best['md']}, msl={best['msl']}, mln={best['mln']}\")\n",
        "m = best['model'].fit(X_train, y_train)\n",
        "testScrore = best['model'].score(X_test, y_test)\n",
        "print(f\"real Test score is {testScrore}\")"
      ]
    },
    {
      "cell_type": "code",
      "execution_count": 38,
      "metadata": {
        "scrolled": true,
        "colab": {
          "base_uri": "https://localhost:8080/",
          "height": 135
        },
        "id": "hs8_VprzNjMm",
        "outputId": "d636d087-3db7-44a0-eb12-0f2334347ffb"
      },
      "outputs": [
        {
          "output_type": "stream",
          "name": "stdout",
          "text": [
            "Fitting 10 folds for each of 400 candidates, totalling 4000 fits\n"
          ]
        },
        {
          "output_type": "execute_result",
          "data": {
            "text/plain": [
              "GridSearchCV(cv=KFold(n_splits=10, random_state=42, shuffle=True),\n",
              "             estimator=DecisionTreeClassifier(), n_jobs=-1,\n",
              "             param_grid={'criterion': ['gini', 'entropy'],\n",
              "                         'max_depth': range(4, 13, 2),\n",
              "                         'min_impurity_decrease': [0.0, 0.05, 0.1, 0.2],\n",
              "                         'random_state': [7, 23, 42, 78, 142],\n",
              "                         'splitter': ['best', 'random']},\n",
              "             verbose=1)"
            ],
            "text/html": [
              "<style>#sk-container-id-1 {color: black;background-color: white;}#sk-container-id-1 pre{padding: 0;}#sk-container-id-1 div.sk-toggleable {background-color: white;}#sk-container-id-1 label.sk-toggleable__label {cursor: pointer;display: block;width: 100%;margin-bottom: 0;padding: 0.3em;box-sizing: border-box;text-align: center;}#sk-container-id-1 label.sk-toggleable__label-arrow:before {content: \"▸\";float: left;margin-right: 0.25em;color: #696969;}#sk-container-id-1 label.sk-toggleable__label-arrow:hover:before {color: black;}#sk-container-id-1 div.sk-estimator:hover label.sk-toggleable__label-arrow:before {color: black;}#sk-container-id-1 div.sk-toggleable__content {max-height: 0;max-width: 0;overflow: hidden;text-align: left;background-color: #f0f8ff;}#sk-container-id-1 div.sk-toggleable__content pre {margin: 0.2em;color: black;border-radius: 0.25em;background-color: #f0f8ff;}#sk-container-id-1 input.sk-toggleable__control:checked~div.sk-toggleable__content {max-height: 200px;max-width: 100%;overflow: auto;}#sk-container-id-1 input.sk-toggleable__control:checked~label.sk-toggleable__label-arrow:before {content: \"▾\";}#sk-container-id-1 div.sk-estimator input.sk-toggleable__control:checked~label.sk-toggleable__label {background-color: #d4ebff;}#sk-container-id-1 div.sk-label input.sk-toggleable__control:checked~label.sk-toggleable__label {background-color: #d4ebff;}#sk-container-id-1 input.sk-hidden--visually {border: 0;clip: rect(1px 1px 1px 1px);clip: rect(1px, 1px, 1px, 1px);height: 1px;margin: -1px;overflow: hidden;padding: 0;position: absolute;width: 1px;}#sk-container-id-1 div.sk-estimator {font-family: monospace;background-color: #f0f8ff;border: 1px dotted black;border-radius: 0.25em;box-sizing: border-box;margin-bottom: 0.5em;}#sk-container-id-1 div.sk-estimator:hover {background-color: #d4ebff;}#sk-container-id-1 div.sk-parallel-item::after {content: \"\";width: 100%;border-bottom: 1px solid gray;flex-grow: 1;}#sk-container-id-1 div.sk-label:hover label.sk-toggleable__label {background-color: #d4ebff;}#sk-container-id-1 div.sk-serial::before {content: \"\";position: absolute;border-left: 1px solid gray;box-sizing: border-box;top: 0;bottom: 0;left: 50%;z-index: 0;}#sk-container-id-1 div.sk-serial {display: flex;flex-direction: column;align-items: center;background-color: white;padding-right: 0.2em;padding-left: 0.2em;position: relative;}#sk-container-id-1 div.sk-item {position: relative;z-index: 1;}#sk-container-id-1 div.sk-parallel {display: flex;align-items: stretch;justify-content: center;background-color: white;position: relative;}#sk-container-id-1 div.sk-item::before, #sk-container-id-1 div.sk-parallel-item::before {content: \"\";position: absolute;border-left: 1px solid gray;box-sizing: border-box;top: 0;bottom: 0;left: 50%;z-index: -1;}#sk-container-id-1 div.sk-parallel-item {display: flex;flex-direction: column;z-index: 1;position: relative;background-color: white;}#sk-container-id-1 div.sk-parallel-item:first-child::after {align-self: flex-end;width: 50%;}#sk-container-id-1 div.sk-parallel-item:last-child::after {align-self: flex-start;width: 50%;}#sk-container-id-1 div.sk-parallel-item:only-child::after {width: 0;}#sk-container-id-1 div.sk-dashed-wrapped {border: 1px dashed gray;margin: 0 0.4em 0.5em 0.4em;box-sizing: border-box;padding-bottom: 0.4em;background-color: white;}#sk-container-id-1 div.sk-label label {font-family: monospace;font-weight: bold;display: inline-block;line-height: 1.2em;}#sk-container-id-1 div.sk-label-container {text-align: center;}#sk-container-id-1 div.sk-container {/* jupyter's `normalize.less` sets `[hidden] { display: none; }` but bootstrap.min.css set `[hidden] { display: none !important; }` so we also need the `!important` here to be able to override the default hidden behavior on the sphinx rendered scikit-learn.org. See: https://github.com/scikit-learn/scikit-learn/issues/21755 */display: inline-block !important;position: relative;}#sk-container-id-1 div.sk-text-repr-fallback {display: none;}</style><div id=\"sk-container-id-1\" class=\"sk-top-container\"><div class=\"sk-text-repr-fallback\"><pre>GridSearchCV(cv=KFold(n_splits=10, random_state=42, shuffle=True),\n",
              "             estimator=DecisionTreeClassifier(), n_jobs=-1,\n",
              "             param_grid={&#x27;criterion&#x27;: [&#x27;gini&#x27;, &#x27;entropy&#x27;],\n",
              "                         &#x27;max_depth&#x27;: range(4, 13, 2),\n",
              "                         &#x27;min_impurity_decrease&#x27;: [0.0, 0.05, 0.1, 0.2],\n",
              "                         &#x27;random_state&#x27;: [7, 23, 42, 78, 142],\n",
              "                         &#x27;splitter&#x27;: [&#x27;best&#x27;, &#x27;random&#x27;]},\n",
              "             verbose=1)</pre><b>In a Jupyter environment, please rerun this cell to show the HTML representation or trust the notebook. <br />On GitHub, the HTML representation is unable to render, please try loading this page with nbviewer.org.</b></div><div class=\"sk-container\" hidden><div class=\"sk-item sk-dashed-wrapped\"><div class=\"sk-label-container\"><div class=\"sk-label sk-toggleable\"><input class=\"sk-toggleable__control sk-hidden--visually\" id=\"sk-estimator-id-1\" type=\"checkbox\" ><label for=\"sk-estimator-id-1\" class=\"sk-toggleable__label sk-toggleable__label-arrow\">GridSearchCV</label><div class=\"sk-toggleable__content\"><pre>GridSearchCV(cv=KFold(n_splits=10, random_state=42, shuffle=True),\n",
              "             estimator=DecisionTreeClassifier(), n_jobs=-1,\n",
              "             param_grid={&#x27;criterion&#x27;: [&#x27;gini&#x27;, &#x27;entropy&#x27;],\n",
              "                         &#x27;max_depth&#x27;: range(4, 13, 2),\n",
              "                         &#x27;min_impurity_decrease&#x27;: [0.0, 0.05, 0.1, 0.2],\n",
              "                         &#x27;random_state&#x27;: [7, 23, 42, 78, 142],\n",
              "                         &#x27;splitter&#x27;: [&#x27;best&#x27;, &#x27;random&#x27;]},\n",
              "             verbose=1)</pre></div></div></div><div class=\"sk-parallel\"><div class=\"sk-parallel-item\"><div class=\"sk-item\"><div class=\"sk-label-container\"><div class=\"sk-label sk-toggleable\"><input class=\"sk-toggleable__control sk-hidden--visually\" id=\"sk-estimator-id-2\" type=\"checkbox\" ><label for=\"sk-estimator-id-2\" class=\"sk-toggleable__label sk-toggleable__label-arrow\">estimator: DecisionTreeClassifier</label><div class=\"sk-toggleable__content\"><pre>DecisionTreeClassifier()</pre></div></div></div><div class=\"sk-serial\"><div class=\"sk-item\"><div class=\"sk-estimator sk-toggleable\"><input class=\"sk-toggleable__control sk-hidden--visually\" id=\"sk-estimator-id-3\" type=\"checkbox\" ><label for=\"sk-estimator-id-3\" class=\"sk-toggleable__label sk-toggleable__label-arrow\">DecisionTreeClassifier</label><div class=\"sk-toggleable__content\"><pre>DecisionTreeClassifier()</pre></div></div></div></div></div></div></div></div></div></div>"
            ]
          },
          "metadata": {},
          "execution_count": 38
        }
      ],
      "source": [
        "from sklearn.model_selection import GridSearchCV\n",
        "estimator = DecisionTreeClassifier()\n",
        "params= {'max_depth':range(4, 13, 2),\n",
        "        'criterion':['gini', 'entropy'],\n",
        "        'splitter':['best', 'random'],\n",
        "        'random_state':[7, 23, 42, 78, 142],\n",
        "        'min_impurity_decrease':[0., 0.05, 0.1, 0.2]}\n",
        "model = GridSearchCV(estimator, params, cv=cv, verbose=1,\n",
        "                    n_jobs=-1, refit=True)\n",
        "\n",
        "# refit=True인 경우라면 재학습은 불필요하다.\n",
        "model.fit(X_train, y_train)"
      ]
    },
    {
      "cell_type": "code",
      "execution_count": 39,
      "metadata": {
        "colab": {
          "base_uri": "https://localhost:8080/"
        },
        "id": "rYnOiU2kNjMn",
        "outputId": "6a65c39c-40fc-4e83-97be-2b4095b916dc"
      },
      "outputs": [
        {
          "output_type": "stream",
          "name": "stdout",
          "text": [
            "Best Estimator: DecisionTreeClassifier(max_depth=4, random_state=7, splitter='random')\n",
            "\n",
            "Best Params: {'criterion': 'gini', 'max_depth': 4, 'min_impurity_decrease': 0.0, 'random_state': 7, 'splitter': 'random'}\n",
            "\n",
            "Best Scorer: 0.975\n",
            "\n"
          ]
        }
      ],
      "source": [
        "print(f\"Best Estimator: {model.best_estimator_}\\n\")\n",
        "print(f\"Best Params: {model.best_params_}\\n\")\n",
        "print(f\"Best Scorer: {model.best_score_}\\n\")"
      ]
    },
    {
      "cell_type": "code",
      "execution_count": 40,
      "metadata": {
        "colab": {
          "base_uri": "https://localhost:8080/"
        },
        "id": "rbntfE3lNjMo",
        "outputId": "48675d4f-3ba1-4f50-c6dd-b7588e2d40d1"
      },
      "outputs": [
        {
          "output_type": "execute_result",
          "data": {
            "text/plain": [
              "0.9666666666666667"
            ]
          },
          "metadata": {},
          "execution_count": 40
        }
      ],
      "source": [
        "model.score(X_test, y_test)"
      ]
    },
    {
      "cell_type": "code",
      "execution_count": 41,
      "metadata": {
        "colab": {
          "base_uri": "https://localhost:8080/"
        },
        "id": "5ITE8N_3NjMo",
        "outputId": "d9f21827-6ffc-4896-e882-8be97ff3284e"
      },
      "outputs": [
        {
          "output_type": "stream",
          "name": "stdout",
          "text": [
            "Fitting 10 folds for each of 180 candidates, totalling 1800 fits\n",
            "Best Estimator: DecisionTreeClassifier(max_depth=3, max_leaf_nodes=7)\n",
            "\n",
            "Best Params: {'max_depth': 3, 'max_leaf_nodes': 7, 'min_samples_split': 2}\n",
            "\n",
            "Best Scorer: 0.9666666666666666\n",
            "\n"
          ]
        }
      ],
      "source": [
        "estimator = DecisionTreeClassifier()\n",
        "params= {'max_depth':[3, 4, 5, 6],\n",
        "        'min_samples_split':range(2, 11),\n",
        "        'max_leaf_nodes':range(7, 12)}\n",
        "m2 = GridSearchCV(estimator, params, cv=cv, verbose=1,\n",
        "                    n_jobs=-1, refit=True)\n",
        "\n",
        "# refit=True인 경우라면 재학습은 불필요하다.\n",
        "m2.fit(X_train, y_train)\n",
        "\n",
        "print(f\"Best Estimator: {m2.best_estimator_}\\n\")\n",
        "print(f\"Best Params: {m2.best_params_}\\n\")\n",
        "print(f\"Best Scorer: {m2.best_score_}\\n\")"
      ]
    },
    {
      "cell_type": "code",
      "execution_count": 42,
      "metadata": {
        "colab": {
          "base_uri": "https://localhost:8080/"
        },
        "id": "gYNPPA56NjMp",
        "outputId": "9d646923-52a9-4cf7-a362-0d85a18e3180"
      },
      "outputs": [
        {
          "output_type": "execute_result",
          "data": {
            "text/plain": [
              "0.9666666666666667"
            ]
          },
          "metadata": {},
          "execution_count": 42
        }
      ],
      "source": [
        "m2.score(X_test, y_test)"
      ]
    },
    {
      "cell_type": "code",
      "execution_count": 43,
      "metadata": {
        "colab": {
          "base_uri": "https://localhost:8080/"
        },
        "id": "8NQSwqFINjMp",
        "outputId": "ce089468-be04-4dd5-b20e-5e9efed7ca36"
      },
      "outputs": [
        {
          "output_type": "stream",
          "name": "stdout",
          "text": [
            "Accuracy : 0.9666666666666667\n"
          ]
        }
      ],
      "source": [
        "from sklearn.metrics import accuracy_score\n",
        "\n",
        "pred = model.predict(X_test)\n",
        "acc = accuracy_score(y_test, pred)\n",
        "print(f'Accuracy : {acc}')"
      ]
    },
    {
      "cell_type": "code",
      "execution_count": 44,
      "metadata": {
        "colab": {
          "base_uri": "https://localhost:8080/"
        },
        "id": "XpObX8M_NjMp",
        "outputId": "7af2b912-2c86-4d90-813e-ef2dbc54d4e2"
      },
      "outputs": [
        {
          "output_type": "execute_result",
          "data": {
            "text/plain": [
              "0.9666666666666667"
            ]
          },
          "metadata": {},
          "execution_count": 44
        }
      ],
      "source": [
        "model.score(X_test, y_test)"
      ]
    },
    {
      "cell_type": "code",
      "execution_count": 45,
      "metadata": {
        "colab": {
          "base_uri": "https://localhost:8080/"
        },
        "id": "0L7X8br3NjMq",
        "outputId": "ce59268b-ec8d-4223-cf18-c87f3e50b65f"
      },
      "outputs": [
        {
          "output_type": "stream",
          "name": "stdout",
          "text": [
            "Confusion Matrix : \n",
            "[[11  0  0]\n",
            " [ 0 12  1]\n",
            " [ 0  0  6]]\n"
          ]
        }
      ],
      "source": [
        "from sklearn.metrics import confusion_matrix\n",
        "confMatrix = confusion_matrix(y_test, pred)\n",
        "print(f\"Confusion Matrix : \\n{confMatrix}\")"
      ]
    },
    {
      "cell_type": "code",
      "execution_count": 46,
      "metadata": {
        "colab": {
          "base_uri": "https://localhost:8080/"
        },
        "id": "SqsNjxGWNjMq",
        "outputId": "022fd3f3-1fd0-4747-ad42-a7ab241fa38c"
      },
      "outputs": [
        {
          "output_type": "stream",
          "name": "stdout",
          "text": [
            "Accuracy : \n",
            "0.9666666666666667\n"
          ]
        }
      ],
      "source": [
        "print(f\"Accuracy : \\n{confMatrix.trace()/confMatrix.sum()}\")"
      ]
    },
    {
      "cell_type": "code",
      "execution_count": 47,
      "metadata": {
        "colab": {
          "base_uri": "https://localhost:8080/"
        },
        "id": "Op7dO7zHNjMr",
        "outputId": "81352c35-486a-4d75-a1d5-92a4aa5c9ea3"
      },
      "outputs": [
        {
          "output_type": "stream",
          "name": "stdout",
          "text": [
            "실제 타겟값의 수: [11 13  6]\n",
            "예측 타겟값의 수: [11 12  7]\n"
          ]
        }
      ],
      "source": [
        "print(f'실제 타겟값의 수: {confMatrix.sum(axis=1)}')\n",
        "print(f'예측 타겟값의 수: {confMatrix.sum(axis=0)}')"
      ]
    },
    {
      "cell_type": "code",
      "execution_count": 49,
      "metadata": {
        "colab": {
          "base_uri": "https://localhost:8080/"
        },
        "id": "K1LgyS_7NjMs",
        "outputId": "d1b462b3-6f52-4cdf-843e-5080f2421068"
      },
      "outputs": [
        {
          "output_type": "stream",
          "name": "stdout",
          "text": [
            "setosa의 정밀도: 1.0\n",
            "versicolor의 정밀도: 1.0\n",
            "virginica의 정밀도: 0.8571428571428571\n"
          ]
        }
      ],
      "source": [
        "from sklearn.metrics import precision_score\n",
        "\n",
        "precisions = precision_score(y_test, pred, average=None)\n",
        "for target, score in zip(data.target_names, precisions):\n",
        "    print(f\"{target}의 정밀도: {score}\")"
      ]
    },
    {
      "cell_type": "code",
      "execution_count": 50,
      "metadata": {
        "colab": {
          "base_uri": "https://localhost:8080/"
        },
        "id": "e-c-ZM59NjMs",
        "outputId": "8a0975ae-8c63-40af-e10e-887d62e6c5ee"
      },
      "outputs": [
        {
          "output_type": "execute_result",
          "data": {
            "text/plain": [
              "array([[11,  0,  0],\n",
              "       [ 0, 12,  1],\n",
              "       [ 0,  0,  6]])"
            ]
          },
          "metadata": {},
          "execution_count": 50
        }
      ],
      "source": [
        "confMatrix"
      ]
    },
    {
      "cell_type": "code",
      "execution_count": 51,
      "metadata": {
        "colab": {
          "base_uri": "https://localhost:8080/"
        },
        "id": "aok4G0kANjMt",
        "outputId": "886faef1-32b9-4b31-99cf-425a514721e9"
      },
      "outputs": [
        {
          "output_type": "stream",
          "name": "stdout",
          "text": [
            "[1.         1.         0.85714286]\n",
            "[1.         0.92307692 1.        ]\n",
            "[1.         1.         0.95833333]\n",
            "[0.         0.         0.04166667]\n"
          ]
        }
      ],
      "source": [
        "precs = []\n",
        "rcls = []\n",
        "specs = []\n",
        "for i in range(3):\n",
        "    TP = confMatrix[i, i]\n",
        "    FN = confMatrix[i].sum() - TP\n",
        "    FP = confMatrix[:,i].sum() - TP\n",
        "    TN = confMatrix.sum() - TP - FN - FP\n",
        "#     TN = confMatrix.trace() - TP\n",
        "    precs.append(TP/(TP+FP))\n",
        "    rcls.append(TP/(TP+FN))\n",
        "    specs.append(TN/(TN+FP))\n",
        "\n",
        "precs = np.array(precs)\n",
        "rcls = np.array(rcls)\n",
        "specs = np.array(specs)\n",
        "fall_outs = 1 - specs\n",
        "\n",
        "print(precs)\n",
        "print(rcls)\n",
        "print(specs)\n",
        "print(fall_outs)"
      ]
    },
    {
      "cell_type": "code",
      "execution_count": 53,
      "metadata": {
        "colab": {
          "base_uri": "https://localhost:8080/"
        },
        "id": "OvISsOYqNjMv",
        "outputId": "9fae0b56-10bb-4379-9076-e35dda60fec8"
      },
      "outputs": [
        {
          "output_type": "stream",
          "name": "stdout",
          "text": [
            "setosa의 재현율: 1.0\n",
            "versicolor의 재현율: 0.9230769230769231\n",
            "virginica의 재현율: 1.0\n"
          ]
        }
      ],
      "source": [
        "from sklearn.metrics import recall_score\n",
        "\n",
        "recalls = recall_score(y_test, pred, average=None)\n",
        "for target, score in zip(data.target_names, recalls):\n",
        "    print(f\"{target}의 재현율: {score}\")"
      ]
    },
    {
      "cell_type": "code",
      "execution_count": 54,
      "metadata": {
        "colab": {
          "base_uri": "https://localhost:8080/"
        },
        "id": "lQBI-sNkNjMv",
        "outputId": "f9a38598-fb3c-49f6-b8e0-c52de5060650"
      },
      "outputs": [
        {
          "output_type": "stream",
          "name": "stdout",
          "text": [
            "setosa의 F1점수: 1.0\n",
            "versicolor의 F1점수: 0.9600000000000001\n",
            "virginica의 F1점수: 0.923076923076923\n"
          ]
        }
      ],
      "source": [
        "from sklearn.metrics import f1_score\n",
        "\n",
        "F1scores = f1_score(y_test, pred, average=None)\n",
        "for target, score in zip(data.target_names, F1scores):\n",
        "    print(f\"{target}의 F1점수: {score}\")"
      ]
    },
    {
      "cell_type": "code",
      "execution_count": 55,
      "metadata": {
        "colab": {
          "base_uri": "https://localhost:8080/"
        },
        "id": "Qkuc4ee4NjMx",
        "outputId": "a9423c8d-6a09-46da-ea20-f79800b42690"
      },
      "outputs": [
        {
          "output_type": "execute_result",
          "data": {
            "text/plain": [
              "array([[11,  0,  0],\n",
              "       [ 0, 12,  1],\n",
              "       [ 0,  0,  6]])"
            ]
          },
          "metadata": {},
          "execution_count": 55
        }
      ],
      "source": [
        "confMatrix"
      ]
    },
    {
      "cell_type": "code",
      "execution_count": 56,
      "metadata": {
        "colab": {
          "base_uri": "https://localhost:8080/"
        },
        "id": "7malySjDNjMx",
        "outputId": "74545a8e-5420-4ec8-c201-f4e92217ed24"
      },
      "outputs": [
        {
          "output_type": "stream",
          "name": "stdout",
          "text": [
            "Classification Report : \n",
            "              precision    recall  f1-score   support\n",
            "\n",
            "      setosa       1.00      1.00      1.00        11\n",
            "  versicolor       1.00      0.92      0.96        13\n",
            "   virginica       0.86      1.00      0.92         6\n",
            "\n",
            "    accuracy                           0.97        30\n",
            "   macro avg       0.95      0.97      0.96        30\n",
            "weighted avg       0.97      0.97      0.97        30\n",
            "\n"
          ]
        }
      ],
      "source": [
        "from sklearn.metrics import classification_report\n",
        "\n",
        "classReport = classification_report(y_test, pred)\n",
        "print(f\"Classification Report : \\n{classReport}\")"
      ]
    },
    {
      "cell_type": "code",
      "execution_count": 57,
      "metadata": {
        "colab": {
          "base_uri": "https://localhost:8080/"
        },
        "id": "Kd-PPPnNNjMy",
        "outputId": "74c53832-94a0-45a4-fac1-16f880fd16dc"
      },
      "outputs": [
        {
          "output_type": "execute_result",
          "data": {
            "text/plain": [
              "versicolor    13\n",
              "setosa        11\n",
              "virginica      6\n",
              "Name: Species, dtype: int64"
            ]
          },
          "metadata": {},
          "execution_count": 57
        }
      ],
      "source": [
        "y_test.value_counts()"
      ]
    },
    {
      "cell_type": "code",
      "execution_count": 58,
      "metadata": {
        "colab": {
          "base_uri": "https://localhost:8080/"
        },
        "id": "8HrRw7cMNjMz",
        "outputId": "746206af-560c-4040-8f6f-82403ff14f48"
      },
      "outputs": [
        {
          "output_type": "execute_result",
          "data": {
            "text/plain": [
              "array(['setosa', 'versicolor', 'versicolor', 'setosa', 'virginica',\n",
              "       'versicolor', 'virginica', 'setosa', 'setosa', 'virginica'],\n",
              "      dtype=object)"
            ]
          },
          "metadata": {},
          "execution_count": 58
        }
      ],
      "source": [
        "pred[:10]"
      ]
    },
    {
      "cell_type": "code",
      "execution_count": 59,
      "metadata": {
        "colab": {
          "base_uri": "https://localhost:8080/"
        },
        "id": "FVpxDtO7NjMz",
        "outputId": "f04bd098-2269-4d1f-a586-f9b115ad1abc"
      },
      "outputs": [
        {
          "output_type": "execute_result",
          "data": {
            "text/plain": [
              "array([[1.        , 0.        , 0.        ],\n",
              "       [0.        , 1.        , 0.        ],\n",
              "       [0.        , 0.88235294, 0.11764706],\n",
              "       [1.        , 0.        , 0.        ],\n",
              "       [0.        , 0.        , 1.        ],\n",
              "       [0.        , 0.88235294, 0.11764706],\n",
              "       [0.        , 0.        , 1.        ],\n",
              "       [1.        , 0.        , 0.        ],\n",
              "       [1.        , 0.        , 0.        ],\n",
              "       [0.        , 0.        , 1.        ]])"
            ]
          },
          "metadata": {},
          "execution_count": 59
        }
      ],
      "source": [
        "pred_proba = model.predict_proba(X_test)\n",
        "pred_proba[:10]"
      ]
    },
    {
      "cell_type": "code",
      "execution_count": 60,
      "metadata": {
        "colab": {
          "base_uri": "https://localhost:8080/"
        },
        "id": "kFmHC8uLNjM0",
        "outputId": "2d2f8aef-69cd-4404-f614-2d0501cc88cd"
      },
      "outputs": [
        {
          "output_type": "execute_result",
          "data": {
            "text/plain": [
              "14         setosa\n",
              "98     versicolor\n",
              "75     versicolor\n",
              "16         setosa\n",
              "131     virginica\n",
              "56     versicolor\n",
              "141     virginica\n",
              "44         setosa\n",
              "29         setosa\n",
              "120     virginica\n",
              "Name: Species, dtype: object"
            ]
          },
          "metadata": {},
          "execution_count": 60
        }
      ],
      "source": [
        "y_test[:10]"
      ]
    },
    {
      "cell_type": "code",
      "execution_count": 61,
      "metadata": {
        "colab": {
          "base_uri": "https://localhost:8080/"
        },
        "id": "qX9h9b0jNjM0",
        "outputId": "c2d400b4-80ba-4d40-d3b3-8520879c3480"
      },
      "outputs": [
        {
          "output_type": "execute_result",
          "data": {
            "text/plain": [
              "array([[1.0, 0.0, 0.0, 'setosa'],\n",
              "       [0.0, 1.0, 0.0, 'versicolor'],\n",
              "       [0.0, 0.8823529411764706, 0.11764705882352941, 'versicolor'],\n",
              "       [1.0, 0.0, 0.0, 'setosa'],\n",
              "       [0.0, 0.0, 1.0, 'virginica'],\n",
              "       [0.0, 0.8823529411764706, 0.11764705882352941, 'versicolor'],\n",
              "       [0.0, 0.0, 1.0, 'virginica'],\n",
              "       [1.0, 0.0, 0.0, 'setosa'],\n",
              "       [1.0, 0.0, 0.0, 'setosa'],\n",
              "       [0.0, 0.0, 1.0, 'virginica']], dtype=object)"
            ]
          },
          "metadata": {},
          "execution_count": 61
        }
      ],
      "source": [
        "\n",
        "viewPoint = np.hstack((pred_proba, y_test.values.reshape(-1, 1)))\n",
        "viewPoint[:10]"
      ]
    },
    {
      "cell_type": "code",
      "execution_count": 62,
      "metadata": {
        "colab": {
          "base_uri": "https://localhost:8080/"
        },
        "id": "Ug30GPgxNjM1",
        "outputId": "71a19a54-24f7-40e6-e6fa-54f12bd51557"
      },
      "outputs": [
        {
          "output_type": "execute_result",
          "data": {
            "text/plain": [
              "array([[1.0, 0.0, 0.0, 'setosa'],\n",
              "       [1.0, 0.0, 0.0, 'setosa'],\n",
              "       [1.0, 0.0, 0.0, 'setosa'],\n",
              "       [1.0, 0.0, 0.0, 'setosa'],\n",
              "       [1.0, 0.0, 0.0, 'setosa'],\n",
              "       [1.0, 0.0, 0.0, 'setosa'],\n",
              "       [1.0, 0.0, 0.0, 'setosa'],\n",
              "       [1.0, 0.0, 0.0, 'setosa'],\n",
              "       [1.0, 0.0, 0.0, 'setosa'],\n",
              "       [1.0, 0.0, 0.0, 'setosa'],\n",
              "       [1.0, 0.0, 0.0, 'setosa'],\n",
              "       [0.0, 0.0, 1.0, 'virginica'],\n",
              "       [0.0, 0.8823529411764706, 0.11764705882352941, 'versicolor'],\n",
              "       [0.0, 0.0, 1.0, 'virginica'],\n",
              "       [0.0, 0.0, 1.0, 'virginica'],\n",
              "       [0.0, 0.8823529411764706, 0.11764705882352941, 'versicolor'],\n",
              "       [0.0, 1.0, 0.0, 'versicolor'],\n",
              "       [0.0, 1.0, 0.0, 'versicolor'],\n",
              "       [0.0, 0.0, 1.0, 'virginica'],\n",
              "       [0.0, 0.0, 1.0, 'virginica'],\n",
              "       [0.0, 0.8823529411764706, 0.11764705882352941, 'versicolor'],\n",
              "       [0.0, 0.8823529411764706, 0.11764705882352941, 'versicolor'],\n",
              "       [0.0, 1.0, 0.0, 'versicolor'],\n",
              "       [0.0, 0.8823529411764706, 0.11764705882352941, 'versicolor'],\n",
              "       [0.0, 0.8823529411764706, 0.11764705882352941, 'versicolor'],\n",
              "       [0.0, 0.8823529411764706, 0.11764705882352941, 'versicolor'],\n",
              "       [0.0, 0.0, 1.0, 'versicolor'],\n",
              "       [0.0, 0.0, 1.0, 'virginica'],\n",
              "       [0.0, 1.0, 0.0, 'versicolor'],\n",
              "       [0.0, 0.8823529411764706, 0.11764705882352941, 'versicolor']],\n",
              "      dtype=object)"
            ]
          },
          "metadata": {},
          "execution_count": 62
        }
      ],
      "source": [
        "viewPoint[np.argsort(pred_proba[:,0])[::-1]]"
      ]
    },
    {
      "cell_type": "code",
      "execution_count": 63,
      "metadata": {
        "colab": {
          "base_uri": "https://localhost:8080/"
        },
        "id": "A1UdZ3OGNjM1",
        "outputId": "d45896fa-16ce-44f4-caf6-bed4e5c4a571"
      },
      "outputs": [
        {
          "output_type": "execute_result",
          "data": {
            "text/plain": [
              "array([[0.0, 1.0, 0.0, 'versicolor'],\n",
              "       [0.0, 1.0, 0.0, 'versicolor'],\n",
              "       [0.0, 1.0, 0.0, 'versicolor'],\n",
              "       [0.0, 1.0, 0.0, 'versicolor'],\n",
              "       [0.0, 0.8823529411764706, 0.11764705882352941, 'versicolor'],\n",
              "       [0.0, 0.8823529411764706, 0.11764705882352941, 'versicolor'],\n",
              "       [0.0, 0.8823529411764706, 0.11764705882352941, 'versicolor'],\n",
              "       [0.0, 0.8823529411764706, 0.11764705882352941, 'versicolor'],\n",
              "       [0.0, 0.8823529411764706, 0.11764705882352941, 'versicolor'],\n",
              "       [0.0, 0.8823529411764706, 0.11764705882352941, 'versicolor'],\n",
              "       [0.0, 0.8823529411764706, 0.11764705882352941, 'versicolor'],\n",
              "       [0.0, 0.8823529411764706, 0.11764705882352941, 'versicolor'],\n",
              "       [0.0, 0.0, 1.0, 'virginica'],\n",
              "       [1.0, 0.0, 0.0, 'setosa'],\n",
              "       [0.0, 0.0, 1.0, 'virginica'],\n",
              "       [1.0, 0.0, 0.0, 'setosa'],\n",
              "       [1.0, 0.0, 0.0, 'setosa'],\n",
              "       [0.0, 0.0, 1.0, 'virginica'],\n",
              "       [0.0, 0.0, 1.0, 'virginica'],\n",
              "       [1.0, 0.0, 0.0, 'setosa'],\n",
              "       [0.0, 0.0, 1.0, 'virginica'],\n",
              "       [1.0, 0.0, 0.0, 'setosa'],\n",
              "       [1.0, 0.0, 0.0, 'setosa'],\n",
              "       [1.0, 0.0, 0.0, 'setosa'],\n",
              "       [0.0, 0.0, 1.0, 'versicolor'],\n",
              "       [1.0, 0.0, 0.0, 'setosa'],\n",
              "       [0.0, 0.0, 1.0, 'virginica'],\n",
              "       [1.0, 0.0, 0.0, 'setosa'],\n",
              "       [1.0, 0.0, 0.0, 'setosa'],\n",
              "       [1.0, 0.0, 0.0, 'setosa']], dtype=object)"
            ]
          },
          "metadata": {},
          "execution_count": 63
        }
      ],
      "source": [
        "viewPoint[np.argsort(pred_proba[:,1])[::-1]]"
      ]
    },
    {
      "cell_type": "code",
      "execution_count": 64,
      "metadata": {
        "colab": {
          "base_uri": "https://localhost:8080/"
        },
        "id": "GxN_2KwSNjM2",
        "outputId": "4344f5fb-68c6-41fb-c5f4-a13388bba17b"
      },
      "outputs": [
        {
          "output_type": "execute_result",
          "data": {
            "text/plain": [
              "array([[0.0, 0.0, 1.0, 'virginica'],\n",
              "       [0.0, 0.0, 1.0, 'virginica'],\n",
              "       [0.0, 0.0, 1.0, 'virginica'],\n",
              "       [0.0, 0.0, 1.0, 'virginica'],\n",
              "       [0.0, 0.0, 1.0, 'versicolor'],\n",
              "       [0.0, 0.0, 1.0, 'virginica'],\n",
              "       [0.0, 0.0, 1.0, 'virginica'],\n",
              "       [0.0, 0.8823529411764706, 0.11764705882352941, 'versicolor'],\n",
              "       [0.0, 0.8823529411764706, 0.11764705882352941, 'versicolor'],\n",
              "       [0.0, 0.8823529411764706, 0.11764705882352941, 'versicolor'],\n",
              "       [0.0, 0.8823529411764706, 0.11764705882352941, 'versicolor'],\n",
              "       [0.0, 0.8823529411764706, 0.11764705882352941, 'versicolor'],\n",
              "       [0.0, 0.8823529411764706, 0.11764705882352941, 'versicolor'],\n",
              "       [0.0, 0.8823529411764706, 0.11764705882352941, 'versicolor'],\n",
              "       [0.0, 0.8823529411764706, 0.11764705882352941, 'versicolor'],\n",
              "       [0.0, 1.0, 0.0, 'versicolor'],\n",
              "       [1.0, 0.0, 0.0, 'setosa'],\n",
              "       [0.0, 1.0, 0.0, 'versicolor'],\n",
              "       [1.0, 0.0, 0.0, 'setosa'],\n",
              "       [1.0, 0.0, 0.0, 'setosa'],\n",
              "       [1.0, 0.0, 0.0, 'setosa'],\n",
              "       [0.0, 1.0, 0.0, 'versicolor'],\n",
              "       [1.0, 0.0, 0.0, 'setosa'],\n",
              "       [1.0, 0.0, 0.0, 'setosa'],\n",
              "       [1.0, 0.0, 0.0, 'setosa'],\n",
              "       [0.0, 1.0, 0.0, 'versicolor'],\n",
              "       [1.0, 0.0, 0.0, 'setosa'],\n",
              "       [1.0, 0.0, 0.0, 'setosa'],\n",
              "       [1.0, 0.0, 0.0, 'setosa'],\n",
              "       [1.0, 0.0, 0.0, 'setosa']], dtype=object)"
            ]
          },
          "metadata": {},
          "execution_count": 64
        }
      ],
      "source": [
        "viewPoint[np.argsort(pred_proba[:,2])[::-1]]"
      ]
    },
    {
      "cell_type": "code",
      "execution_count": 66,
      "metadata": {
        "colab": {
          "base_uri": "https://localhost:8080/"
        },
        "id": "p4nQNS_jNjM3",
        "outputId": "205d715c-1c7d-4be5-b79b-72a570279f5c"
      },
      "outputs": [
        {
          "output_type": "stream",
          "name": "stdout",
          "text": [
            "ROC-AUC score is meaned with : \n",
            "0.9802350427350427\n"
          ]
        }
      ],
      "source": [
        "from sklearn.metrics import roc_auc_score\n",
        "\n",
        "\n",
        "aucs = roc_auc_score(y_test, pred_proba, multi_class='ovr')\n",
        "print(f\"ROC-AUC score is meaned with : \\n{aucs}\")"
      ]
    },
    {
      "cell_type": "code",
      "execution_count": 68,
      "metadata": {
        "colab": {
          "base_uri": "https://localhost:8080/",
          "height": 135
        },
        "id": "-i2aL2drNjM4",
        "outputId": "2c4caef3-36ea-4cea-b96b-557194fa81df"
      },
      "outputs": [
        {
          "output_type": "stream",
          "name": "stdout",
          "text": [
            "Fitting 10 folds for each of 400 candidates, totalling 4000 fits\n"
          ]
        },
        {
          "output_type": "execute_result",
          "data": {
            "text/plain": [
              "GridSearchCV(cv=KFold(n_splits=10, random_state=42, shuffle=True),\n",
              "             estimator=DecisionTreeClassifier(), n_jobs=-1,\n",
              "             param_grid={'criterion': ['gini', 'entropy'],\n",
              "                         'max_depth': range(4, 13, 2),\n",
              "                         'min_impurity_decrease': [0.0, 0.05, 0.1, 0.2],\n",
              "                         'random_state': [7, 23, 42, 78, 142],\n",
              "                         'splitter': ['best', 'random']},\n",
              "             verbose=1)"
            ],
            "text/html": [
              "<style>#sk-container-id-2 {color: black;background-color: white;}#sk-container-id-2 pre{padding: 0;}#sk-container-id-2 div.sk-toggleable {background-color: white;}#sk-container-id-2 label.sk-toggleable__label {cursor: pointer;display: block;width: 100%;margin-bottom: 0;padding: 0.3em;box-sizing: border-box;text-align: center;}#sk-container-id-2 label.sk-toggleable__label-arrow:before {content: \"▸\";float: left;margin-right: 0.25em;color: #696969;}#sk-container-id-2 label.sk-toggleable__label-arrow:hover:before {color: black;}#sk-container-id-2 div.sk-estimator:hover label.sk-toggleable__label-arrow:before {color: black;}#sk-container-id-2 div.sk-toggleable__content {max-height: 0;max-width: 0;overflow: hidden;text-align: left;background-color: #f0f8ff;}#sk-container-id-2 div.sk-toggleable__content pre {margin: 0.2em;color: black;border-radius: 0.25em;background-color: #f0f8ff;}#sk-container-id-2 input.sk-toggleable__control:checked~div.sk-toggleable__content {max-height: 200px;max-width: 100%;overflow: auto;}#sk-container-id-2 input.sk-toggleable__control:checked~label.sk-toggleable__label-arrow:before {content: \"▾\";}#sk-container-id-2 div.sk-estimator input.sk-toggleable__control:checked~label.sk-toggleable__label {background-color: #d4ebff;}#sk-container-id-2 div.sk-label input.sk-toggleable__control:checked~label.sk-toggleable__label {background-color: #d4ebff;}#sk-container-id-2 input.sk-hidden--visually {border: 0;clip: rect(1px 1px 1px 1px);clip: rect(1px, 1px, 1px, 1px);height: 1px;margin: -1px;overflow: hidden;padding: 0;position: absolute;width: 1px;}#sk-container-id-2 div.sk-estimator {font-family: monospace;background-color: #f0f8ff;border: 1px dotted black;border-radius: 0.25em;box-sizing: border-box;margin-bottom: 0.5em;}#sk-container-id-2 div.sk-estimator:hover {background-color: #d4ebff;}#sk-container-id-2 div.sk-parallel-item::after {content: \"\";width: 100%;border-bottom: 1px solid gray;flex-grow: 1;}#sk-container-id-2 div.sk-label:hover label.sk-toggleable__label {background-color: #d4ebff;}#sk-container-id-2 div.sk-serial::before {content: \"\";position: absolute;border-left: 1px solid gray;box-sizing: border-box;top: 0;bottom: 0;left: 50%;z-index: 0;}#sk-container-id-2 div.sk-serial {display: flex;flex-direction: column;align-items: center;background-color: white;padding-right: 0.2em;padding-left: 0.2em;position: relative;}#sk-container-id-2 div.sk-item {position: relative;z-index: 1;}#sk-container-id-2 div.sk-parallel {display: flex;align-items: stretch;justify-content: center;background-color: white;position: relative;}#sk-container-id-2 div.sk-item::before, #sk-container-id-2 div.sk-parallel-item::before {content: \"\";position: absolute;border-left: 1px solid gray;box-sizing: border-box;top: 0;bottom: 0;left: 50%;z-index: -1;}#sk-container-id-2 div.sk-parallel-item {display: flex;flex-direction: column;z-index: 1;position: relative;background-color: white;}#sk-container-id-2 div.sk-parallel-item:first-child::after {align-self: flex-end;width: 50%;}#sk-container-id-2 div.sk-parallel-item:last-child::after {align-self: flex-start;width: 50%;}#sk-container-id-2 div.sk-parallel-item:only-child::after {width: 0;}#sk-container-id-2 div.sk-dashed-wrapped {border: 1px dashed gray;margin: 0 0.4em 0.5em 0.4em;box-sizing: border-box;padding-bottom: 0.4em;background-color: white;}#sk-container-id-2 div.sk-label label {font-family: monospace;font-weight: bold;display: inline-block;line-height: 1.2em;}#sk-container-id-2 div.sk-label-container {text-align: center;}#sk-container-id-2 div.sk-container {/* jupyter's `normalize.less` sets `[hidden] { display: none; }` but bootstrap.min.css set `[hidden] { display: none !important; }` so we also need the `!important` here to be able to override the default hidden behavior on the sphinx rendered scikit-learn.org. See: https://github.com/scikit-learn/scikit-learn/issues/21755 */display: inline-block !important;position: relative;}#sk-container-id-2 div.sk-text-repr-fallback {display: none;}</style><div id=\"sk-container-id-2\" class=\"sk-top-container\"><div class=\"sk-text-repr-fallback\"><pre>GridSearchCV(cv=KFold(n_splits=10, random_state=42, shuffle=True),\n",
              "             estimator=DecisionTreeClassifier(), n_jobs=-1,\n",
              "             param_grid={&#x27;criterion&#x27;: [&#x27;gini&#x27;, &#x27;entropy&#x27;],\n",
              "                         &#x27;max_depth&#x27;: range(4, 13, 2),\n",
              "                         &#x27;min_impurity_decrease&#x27;: [0.0, 0.05, 0.1, 0.2],\n",
              "                         &#x27;random_state&#x27;: [7, 23, 42, 78, 142],\n",
              "                         &#x27;splitter&#x27;: [&#x27;best&#x27;, &#x27;random&#x27;]},\n",
              "             verbose=1)</pre><b>In a Jupyter environment, please rerun this cell to show the HTML representation or trust the notebook. <br />On GitHub, the HTML representation is unable to render, please try loading this page with nbviewer.org.</b></div><div class=\"sk-container\" hidden><div class=\"sk-item sk-dashed-wrapped\"><div class=\"sk-label-container\"><div class=\"sk-label sk-toggleable\"><input class=\"sk-toggleable__control sk-hidden--visually\" id=\"sk-estimator-id-4\" type=\"checkbox\" ><label for=\"sk-estimator-id-4\" class=\"sk-toggleable__label sk-toggleable__label-arrow\">GridSearchCV</label><div class=\"sk-toggleable__content\"><pre>GridSearchCV(cv=KFold(n_splits=10, random_state=42, shuffle=True),\n",
              "             estimator=DecisionTreeClassifier(), n_jobs=-1,\n",
              "             param_grid={&#x27;criterion&#x27;: [&#x27;gini&#x27;, &#x27;entropy&#x27;],\n",
              "                         &#x27;max_depth&#x27;: range(4, 13, 2),\n",
              "                         &#x27;min_impurity_decrease&#x27;: [0.0, 0.05, 0.1, 0.2],\n",
              "                         &#x27;random_state&#x27;: [7, 23, 42, 78, 142],\n",
              "                         &#x27;splitter&#x27;: [&#x27;best&#x27;, &#x27;random&#x27;]},\n",
              "             verbose=1)</pre></div></div></div><div class=\"sk-parallel\"><div class=\"sk-parallel-item\"><div class=\"sk-item\"><div class=\"sk-label-container\"><div class=\"sk-label sk-toggleable\"><input class=\"sk-toggleable__control sk-hidden--visually\" id=\"sk-estimator-id-5\" type=\"checkbox\" ><label for=\"sk-estimator-id-5\" class=\"sk-toggleable__label sk-toggleable__label-arrow\">estimator: DecisionTreeClassifier</label><div class=\"sk-toggleable__content\"><pre>DecisionTreeClassifier()</pre></div></div></div><div class=\"sk-serial\"><div class=\"sk-item\"><div class=\"sk-estimator sk-toggleable\"><input class=\"sk-toggleable__control sk-hidden--visually\" id=\"sk-estimator-id-6\" type=\"checkbox\" ><label for=\"sk-estimator-id-6\" class=\"sk-toggleable__label sk-toggleable__label-arrow\">DecisionTreeClassifier</label><div class=\"sk-toggleable__content\"><pre>DecisionTreeClassifier()</pre></div></div></div></div></div></div></div></div></div></div>"
            ]
          },
          "metadata": {},
          "execution_count": 68
        }
      ],
      "source": [
        "model.fit(iris.iloc[:,:-1], iris.iloc[:,-1])"
      ]
    },
    {
      "cell_type": "code",
      "execution_count": 69,
      "metadata": {
        "id": "B2AyaXMyNjM4"
      },
      "outputs": [],
      "source": [
        "import pickle\n",
        "\n",
        "with open('final_model.pickle', 'wb') as fp:\n",
        "    pickle.dump(model, fp)"
      ]
    },
    {
      "cell_type": "code",
      "execution_count": 70,
      "metadata": {
        "id": "AY7kUtKBNjM4"
      },
      "outputs": [],
      "source": [
        "f = open('final_model.pickle', 'rb')\n",
        "model = pickle.load(f); f.close()\n",
        "\n",
        "predicts = model.predict(iris.iloc[:, :-1])\n",
        "iris['preds'] = predicts\n",
        "iris.to_csv('FinalResult.csv', index=False)"
      ]
    },
    {
      "cell_type": "code",
      "execution_count": 71,
      "metadata": {
        "colab": {
          "base_uri": "https://localhost:8080/"
        },
        "id": "8l1FAgr5NjM5",
        "outputId": "9eec3dbf-c3dd-4336-986e-86dd45e7e632"
      },
      "outputs": [
        {
          "output_type": "execute_result",
          "data": {
            "text/plain": [
              "0.9866666666666667"
            ]
          },
          "metadata": {},
          "execution_count": 71
        }
      ],
      "source": [
        "(iris['Species'] == iris['preds']).mean()"
      ]
    },
    {
      "cell_type": "code",
      "execution_count": 71,
      "metadata": {
        "id": "WxbclQq8NjM5"
      },
      "outputs": [],
      "source": []
    }
  ],
  "metadata": {
    "kernelspec": {
      "display_name": "Python 3",
      "language": "python",
      "name": "python3"
    },
    "language_info": {
      "codemirror_mode": {
        "name": "ipython",
        "version": 3
      },
      "file_extension": ".py",
      "mimetype": "text/x-python",
      "name": "python",
      "nbconvert_exporter": "python",
      "pygments_lexer": "ipython3",
      "version": "3.7.6"
    },
    "toc": {
      "base_numbering": 1,
      "nav_menu": {},
      "number_sections": true,
      "sideBar": true,
      "skip_h1_title": false,
      "title_cell": "Table of Contents",
      "title_sidebar": "Contents",
      "toc_cell": false,
      "toc_position": {},
      "toc_section_display": true,
      "toc_window_display": false
    },
    "varInspector": {
      "cols": {
        "lenName": 16,
        "lenType": 16,
        "lenVar": 40
      },
      "kernels_config": {
        "python": {
          "delete_cmd_postfix": "",
          "delete_cmd_prefix": "del ",
          "library": "var_list.py",
          "varRefreshCmd": "print(var_dic_list())"
        },
        "r": {
          "delete_cmd_postfix": ") ",
          "delete_cmd_prefix": "rm(",
          "library": "var_list.r",
          "varRefreshCmd": "cat(var_dic_list()) "
        }
      },
      "types_to_exclude": [
        "module",
        "function",
        "builtin_function_or_method",
        "instance",
        "_Feature"
      ],
      "window_display": false
    },
    "colab": {
      "provenance": []
    }
  },
  "nbformat": 4,
  "nbformat_minor": 0
}